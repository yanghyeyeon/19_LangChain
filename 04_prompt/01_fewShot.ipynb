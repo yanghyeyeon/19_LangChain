{
 "cells": [
  {
   "cell_type": "code",
   "execution_count": 1,
   "metadata": {},
   "outputs": [
    {
     "data": {
      "text/plain": [
       "True"
      ]
     },
     "execution_count": 1,
     "metadata": {},
     "output_type": "execute_result"
    }
   ],
   "source": [
    "from dotenv import load_dotenv\n",
    "\n",
    "load_dotenv()"
   ]
  },
  {
   "cell_type": "code",
   "execution_count": 2,
   "metadata": {},
   "outputs": [],
   "source": [
    "from langchain_openai import ChatOpenAI\n",
    "\n",
    "llm = ChatOpenAI(\n",
    "    temperature=0,\n",
    "    model=\"gpt-4o\"\n",
    ")"
   ]
  },
  {
   "cell_type": "markdown",
   "metadata": {},
   "source": [
    "### FewShotPromptTemplate\n",
    "\n",
    "**One Shot**\n",
    "* 하나의 예시만 보여주는 것\n",
    "\n",
    "**Few Shot**\n",
    "* 여러개의 예시를 보여주는 것"
   ]
  },
  {
   "cell_type": "code",
   "execution_count": 6,
   "metadata": {},
   "outputs": [],
   "source": [
    "# 추론 기법\n",
    "# LLM 한번에 답변하기 어려운 내용들을 논리적인 추론 관정을 보여주고\n",
    "# 이걸 토대로 답변하게 하는 방법\n",
    "examples = [\n",
    "    {\n",
    "    \"question\": \"피카소와 반 고흐 중 누가 더 많은 작품을 남겼나요?\",\n",
    "    \"answer\": \"\"\"이 질문에 추가 질문이 필요한가요: 예.\n",
    "    추가 질문: 피카소는 몇 개의 작품을 남겼나요?\n",
    "    중간 답변: 피카소는 약 50,000개의 작품을 남겼습니다.\n",
    "    추가 질문: 반 고흐는 몇 개의 작품을 남겼나요?\n",
    "    중간 답변: 반 고흐는 약 2,100개의 작품을 남겼습니다.\n",
    "    최종 답변은: 피카소\n",
    "\"\"\",\n",
    "    },\n",
    "    {\n",
    "        \"question\": \"네이버의 창립자는 언제 태어났나요?\",\n",
    "        \"answer\": \"\"\"이 질문에 추가 질문이 필요한가요: 예.\n",
    "추가 질문: 네이버의 창립자는 누구인가요?\n",
    "중간 답변: 네이버는 이해진에 의해 창립되었습니다.\n",
    "추가 질문: 이해진은 언제 태어났나요?\n",
    "중간 답변: 이해진은 1967년 6월 22일에 태어났습니다.\n",
    "최종 답변은: 1967년 6월 22일\n",
    "\"\"\",\n",
    "    },\n",
    "    {\n",
    "        \"question\": \"타이타닉과 아바타 중 더 많은 수익을 올린 영화는 무엇인가요?\",\n",
    "        \"answer\": \"\"\"이 질문에 추가 질문이 필요한가요: 예.\n",
    "추가 질문: 타이타닉의 총 수익은 얼마인가요?\n",
    "중간 답변: 타이타닉의 총 수익은 약 21억 달러입니다.\n",
    "추가 질문: 아바타의 총 수익은 얼마인가요?\n",
    "중간 답변: 아바타의 총 수익은 약 28억 달러입니다.\n",
    "최종 답변은: 아바타\n",
    "\"\"\",\n",
    "    },\n",
    "    {\n",
    "        \"question\": \"나폴레옹과 알렉산더 대왕 중 누가 더 많은 전투에서 승리했나요?\",\n",
    "        \"answer\": \"\"\"이 질문에 추가 질문이 필요한가요: 예.\n",
    "    추가 질문: 나폴레옹은 몇 번의 전투에서 승리했나요?\n",
    "    중간 답변: 나폴레옹은 약 60번의 전투에서 승리했습니다.\n",
    "    추가 질문: 알렉산더 대왕은 몇 번의 전투에서 승리했나요?\n",
    "    중간 답변: 알렉산더 대왕은 약 20번의 전투에서 승리했습니다.\n",
    "    최종 답변은: 나폴레옹\n",
    "\"\"\",\n",
    "    },\n",
    "]"
   ]
  },
  {
   "cell_type": "code",
   "execution_count": 9,
   "metadata": {},
   "outputs": [
    {
     "name": "stdout",
     "output_type": "stream",
     "text": [
      "\n",
      "    Question:\n",
      "    피카소와 반 고흐 중 누가 더 많은 작품을 남겼나요?\n",
      "    \n",
      "    Answer:\n",
      "    이 질문에 추가 질문이 필요한가요: 예.\n",
      "추가 질문: 피카소는 몇 개의 작품을 남겼나요?\n",
      "중간 답변: 피카소는 약 50,000개의 작품을 남겼습니다.\n",
      "추가 질문: 반 고흐는 몇 개의 작품을 남겼나요?\n",
      "중간 답변: 반 고흐는 약 2,100개의 작품을 남겼습니다.\n",
      "최종 답변은: 피카소\n",
      "\n",
      "    \n"
     ]
    }
   ],
   "source": [
    "from langchain_core.prompts import PromptTemplate\n",
    "\n",
    "example_prompt = PromptTemplate.from_template(\n",
    "    \"\"\"\n",
    "    Question:\n",
    "    {question}\n",
    "    \n",
    "    Answer:\n",
    "    {answer}\n",
    "    \"\"\"\n",
    ")\n",
    "\n",
    "# examples 0qjsWo dPtlfmf rkwudhrh\n",
    "# **연산자를 사용해 딕셔너리를 언패킹해서 키값을 인수로 전달하게 함\n",
    "print(example_prompt.format(**examples[0]))"
   ]
  },
  {
   "cell_type": "code",
   "execution_count": 12,
   "metadata": {},
   "outputs": [
    {
     "name": "stdout",
     "output_type": "stream",
     "text": [
      "\n",
      "    Question:\n",
      "    피카소와 반 고흐 중 누가 더 많은 작품을 남겼나요?\n",
      "    \n",
      "    Answer:\n",
      "    이 질문에 추가 질문이 필요한가요: 예.\n",
      "추가 질문: 피카소는 몇 개의 작품을 남겼나요?\n",
      "중간 답변: 피카소는 약 50,000개의 작품을 남겼습니다.\n",
      "추가 질문: 반 고흐는 몇 개의 작품을 남겼나요?\n",
      "중간 답변: 반 고흐는 약 2,100개의 작품을 남겼습니다.\n",
      "최종 답변은: 피카소\n",
      "\n",
      "    \n",
      "\n",
      "\n",
      "    Question:\n",
      "    네이버의 창립자는 언제 태어났나요?\n",
      "    \n",
      "    Answer:\n",
      "    이 질문에 추가 질문이 필요한가요: 예.\n",
      "추가 질문: 네이버의 창립자는 누구인가요?\n",
      "중간 답변: 네이버는 이해진에 의해 창립되었습니다.\n",
      "추가 질문: 이해진은 언제 태어났나요?\n",
      "중간 답변: 이해진은 1967년 6월 22일에 태어났습니다.\n",
      "최종 답변은: 1967년 6월 22일\n",
      "\n",
      "    \n",
      "\n",
      "\n",
      "    Question:\n",
      "    타이타닉과 아바타 중 더 많은 수익을 올린 영화는 무엇인가요?\n",
      "    \n",
      "    Answer:\n",
      "    이 질문에 추가 질문이 필요한가요: 예.\n",
      "추가 질문: 타이타닉의 총 수익은 얼마인가요?\n",
      "중간 답변: 타이타닉의 총 수익은 약 21억 달러입니다.\n",
      "추가 질문: 아바타의 총 수익은 얼마인가요?\n",
      "중간 답변: 아바타의 총 수익은 약 28억 달러입니다.\n",
      "최종 답변은: 아바타\n",
      "\n",
      "    \n",
      "\n",
      "\n",
      "    Question:\n",
      "    나폴레옹과 알렉산더 대왕 중 누가 더 많은 전투에서 승리했나요?\n",
      "    \n",
      "    Answer:\n",
      "    이 질문에 추가 질문이 필요한가요: 예.\n",
      "    추가 질문: 나폴레옹은 몇 번의 전투에서 승리했나요?\n",
      "    중간 답변: 나폴레옹은 약 60번의 전투에서 승리했습니다.\n",
      "    추가 질문: 알렉산더 대왕은 몇 번의 전투에서 승리했나요?\n",
      "    중간 답변: 알렉산더 대왕은 약 20번의 전투에서 승리했습니다.\n",
      "    최종 답변은: 나폴레옹\n",
      "\n",
      "    \n",
      "\n",
      "\n",
      "    Question:\n",
      "    귀도반로섬은 몇살에 파이썬을 만들었나요?\n",
      "    Answer:\n",
      "    \n"
     ]
    }
   ],
   "source": [
    "from langchain_core.prompts.few_shot import FewShotPromptTemplate\n",
    "\n",
    "prompt = FewShotPromptTemplate(\n",
    "    \n",
    "    # 예제 목록들을 지정해주는 인자\n",
    "    examples=examples,\n",
    "    \n",
    "    # 예제 프롬프트 템플릿을 설정\n",
    "    # 각 예제가 어떤 형식으로 포맷팅 될지 정의하는 인자\n",
    "    example_prompt=example_prompt,\n",
    "    \n",
    "    # 실제 질문을 받을 때 사용할 프롬프트 템플릿의 마지막 부분\n",
    "    suffix=\"\"\"\n",
    "    Question:\n",
    "    {question}\n",
    "    Answer:\n",
    "    \"\"\",\n",
    "    input_variables=[\"question\"],\n",
    ")\n",
    "\n",
    "question = \"귀도반로섬은 몇살에 파이썬을 만들었나요?\"\n",
    "\n",
    "final_prompt = prompt.format(question=question)\n",
    "\n",
    "print(final_prompt)"
   ]
  },
  {
   "cell_type": "code",
   "execution_count": 11,
   "metadata": {},
   "outputs": [
    {
     "name": "stdout",
     "output_type": "stream",
     "text": [
      "이 질문에 추가 질문이 필요한가요: 예.\n",
      "추가 질문: 귀도 반 로섬은 언제 태어났나요?\n",
      "중간 답변: 귀도 반 로섬은 1956년 1월 31일에 태어났습니다.\n",
      "추가 질문: 파이썬은 언제 만들어졌나요?\n",
      "중간 답변: 파이썬은 1991년에 처음 발표되었습니다.\n",
      "최종 답변은: 귀도 반 로섬은 35살에 파이썬을 만들었습니다.\n"
     ]
    }
   ],
   "source": [
    "answer = llm.invoke(final_prompt)\n",
    "\n",
    "print(answer.content)"
   ]
  },
  {
   "cell_type": "code",
   "execution_count": 14,
   "metadata": {},
   "outputs": [
    {
     "name": "stdout",
     "output_type": "stream",
     "text": [
      "이 질문에 추가 질문이 필요한가요: 예.\n",
      "추가 질문: 귀도 반 로섬은 언제 파이썬을 만들었나요?\n",
      "중간 답변: 귀도 반 로섬은 1989년에 파이썬을 만들기 시작했습니다.\n",
      "추가 질문: 귀도 반 로섬은 언제 태어났나요?\n",
      "중간 답변: 귀도 반 로섬은 1956년 1월 31일에 태어났습니다.\n",
      "최종 답변은: 귀도 반 로섬은 33살에 파이썬을 만들었습니다.\n"
     ]
    }
   ],
   "source": [
    "from langchain_core.output_parsers import StrOutputParser\n",
    "\n",
    "chain = prompt | llm | StrOutputParser()\n",
    "\n",
    "answer = chain.invoke({\"question\" : question})\n",
    "\n",
    "print(answer)"
   ]
  },
  {
   "cell_type": "markdown",
   "metadata": {},
   "source": [
    "### Example Selector\n",
    "* 주어진 질문에 가장 적합한 예제를 선택해 프롬프트에 포함시키기 위해 사용한다.\n",
    "* 적합한 예제를 선택해 사용함으로써 모델이 더 정확하고 관련선 높은 답변을 만들 수 있다.\n",
    "* 비용 절감의 효과도 있다"
   ]
  },
  {
   "cell_type": "code",
   "execution_count": null,
   "metadata": {},
   "outputs": [],
   "source": [
    "!pip install langchain-chroma"
   ]
  },
  {
   "cell_type": "markdown",
   "metadata": {},
   "source": [
    "### MaxMarginalRelevanceExampleSelector (MMR알고리즘)\n",
    "* 정보 검색과 문서 요약과정에 다양성과 관련성을 모두 고려하여 선택하는 알고리즘\n",
    "* 결과의 중복성을 줄이면서도, 관련성이 높은 정보를 제공해준다."
   ]
  },
  {
   "cell_type": "code",
   "execution_count": 22,
   "metadata": {},
   "outputs": [
    {
     "name": "stdout",
     "output_type": "stream",
     "text": [
      "지문에 가장 유사한 예시 :  [{'answer': '이 질문에 추가 질문이 필요한가요: 예.\\n추가 질문: 네이버의 창립자는 누구인가요?\\n중간 답변: 네이버는 이해진에 의해 창립되었습니다.\\n추가 질문: 이해진은 언제 태어났나요?\\n중간 답변: 이해진은 1967년 6월 22일에 태어났습니다.\\n최종 답변은: 1967년 6월 22일\\n', 'question': '네이버의 창립자는 언제 태어났나요?'}]\n"
     ]
    }
   ],
   "source": [
    "from langchain_core.example_selectors import SemanticSimilarityExampleSelector, MaxMarginalRelevanceExampleSelector\n",
    "from langchain_openai import OpenAIEmbeddings\n",
    "from langchain_chroma import Chroma\n",
    "\n",
    "# Vector store 새성\n",
    "chroma = Chroma(\"example_selector\", OpenAIEmbeddings())\n",
    "\n",
    "example_selector = SemanticSimilarityExampleSelector.from_examples(\n",
    "    # 예시 목록\n",
    "    examples,\n",
    "    # 임베딩\n",
    "    OpenAIEmbeddings(),\n",
    "    # 벡스토어\n",
    "    Chroma,\n",
    "    # 생성할 예시의 수\n",
    "    k=1\n",
    ")\n",
    "\n",
    "question = \"애플이 설립된 해에 스티브 잡스의 나이는 몇 살이였나요?\"\n",
    "\n",
    "selected_examples = example_selector.select_examples({\"question\" : question})\n",
    "\n",
    "print(\"지문에 가장 유사한 예시 : \" , selected_examples)"
   ]
  },
  {
   "cell_type": "code",
   "execution_count": null,
   "metadata": {},
   "outputs": [
    {
     "name": "stdout",
     "output_type": "stream",
     "text": [
      "\n",
      "    Question:\n",
      "    네이버의 창립자는 언제 태어났나요?\n",
      "    \n",
      "    Answer:\n",
      "    이 질문에 추가 질문이 필요한가요: 예.\n",
      "추가 질문: 네이버의 창립자는 누구인가요?\n",
      "중간 답변: 네이버는 이해진에 의해 창립되었습니다.\n",
      "추가 질문: 이해진은 언제 태어났나요?\n",
      "중간 답변: 이해진은 1967년 6월 22일에 태어났습니다.\n",
      "최종 답변은: 1967년 6월 22일\n",
      "\n",
      "    \n",
      "\n",
      "\n",
      "    Question:\n",
      "    애플이 설립된 해에 스티브 잡스의 나이는 몇 살이였나요?\n",
      "    Answer:\n",
      "    \n"
     ]
    }
   ],
   "source": [
    "prompt = FewShotPromptTemplate(\n",
    "    example_selector=example_selector,\n",
    "    example_prompt=example_prompt,\n",
    "    suffix=\"\"\"\n",
    "    Question:\n",
    "    {question}\n",
    "    Answer:\n",
    "    \"\"\",\n",
    "    input_variables=[\"question\"]\n",
    ")\n",
    "\n",
    "example_selector_prompt = prompt.format(question=question)\n",
    "\n",
    "print(example_selector_prompt)"
   ]
  },
  {
   "cell_type": "code",
   "execution_count": 24,
   "metadata": {},
   "outputs": [
    {
     "name": "stdout",
     "output_type": "stream",
     "text": [
      "이 질문에 추가 질문이 필요한가요: 예.\n",
      "추가 질문: 애플은 언제 설립되었나요?\n",
      "중간 답변: 애플은 1976년에 설립되었습니다.\n",
      "추가 질문: 스티브 잡스는 언제 태어났나요?\n",
      "중간 답변: 스티브 잡스는 1955년 2월 24일에 태어났습니다.\n",
      "추가 질문: 1976년에 스티브 잡스의 나이는 몇 살이었나요?\n",
      "중간 답변: 1976년에는 스티브 잡스가 21살이었습니다.\n",
      "최종 답변은: 21살\n"
     ]
    }
   ],
   "source": [
    "chain = prompt | llm | StrOutputParser()\n",
    "\n",
    "answer = chain.invoke(question)\n",
    "\n",
    "print(answer)"
   ]
  }
 ],
 "metadata": {
  "kernelspec": {
   "display_name": "langchain_env",
   "language": "python",
   "name": "python3"
  },
  "language_info": {
   "codemirror_mode": {
    "name": "ipython",
    "version": 3
   },
   "file_extension": ".py",
   "mimetype": "text/x-python",
   "name": "python",
   "nbconvert_exporter": "python",
   "pygments_lexer": "ipython3",
   "version": "3.11.10"
  }
 },
 "nbformat": 4,
 "nbformat_minor": 2
}
