{
 "cells": [
  {
   "cell_type": "markdown",
   "metadata": {},
   "source": [
    "### DatetimeOutputPatser\n",
    "* LLM의 출력을 datetime 형식으로 파싱하는데 사용"
   ]
  },
  {
   "cell_type": "markdown",
   "metadata": {},
   "source": [
    "**참고**\n",
    "\n",
    "| 형식 코드 | 설명                | 예시          |\n",
    "|------------|---------------------|---------------|\n",
    "| %Y         | 4자리 연도          | 2024          |\n",
    "| %y         | 2자리 연도          | 24            |\n",
    "| %m         | 2자리 월            | 07            |\n",
    "| %d         | 2자리 일            | 04            |\n",
    "| %H         | 24시간제 시간       | 14            |\n",
    "| %I         | 12시간제 시간       | 02            |\n",
    "| %p         | AM 또는 PM          | PM            |\n",
    "| %M         | 2자리 분            | 45            |\n",
    "| %S         | 2자리 초            | 08            |\n",
    "| %f         | 마이크로초 (6자리)  | 000123        |\n",
    "| %z         | UTC 오프셋          | +0900         |\n",
    "| %Z         | 시간대 이름         | KST           |\n",
    "| %a         | 요일 약어           | Thu           |\n",
    "| %A         | 요일 전체           | Thursday      |\n",
    "| %b         | 월 약어             | Jul           |\n",
    "| %B         | 월 전체             | July          |\n",
    "| %c         | 전체 날짜와 시간     | Thu Jul  4 14:45:08 2024 |\n",
    "| %x         | 전체 날짜           | 07/04/24      |\n",
    "| %X         | 전체 시간           | 14:45:08      |"
   ]
  },
  {
   "cell_type": "code",
   "execution_count": 1,
   "metadata": {},
   "outputs": [
    {
     "data": {
      "text/plain": [
       "True"
      ]
     },
     "execution_count": 1,
     "metadata": {},
     "output_type": "execute_result"
    }
   ],
   "source": [
    "from dotenv import load_dotenv\n",
    "\n",
    "load_dotenv()"
   ]
  },
  {
   "cell_type": "code",
   "execution_count": 7,
   "metadata": {},
   "outputs": [
    {
     "name": "stdout",
     "output_type": "stream",
     "text": [
      "1976-04-01 00:00:00\n",
      "1976-04-01\n"
     ]
    }
   ],
   "source": [
    "from langchain.output_parsers import DatetimeOutputParser\n",
    "from langchain.prompts import PromptTemplate\n",
    "from langchain_openai import ChatOpenAI\n",
    "\n",
    "output_parser = DatetimeOutputParser()\n",
    "\n",
    "# 연도-월-일\n",
    "output_parser.format = \"%Y-%m-%d\"\n",
    "\n",
    "template = \"\"\"\n",
    "Answer the user question:\n",
    "\n",
    "#Format Instructions:\n",
    "{format_instructions}\n",
    "\n",
    "#Question\n",
    "{question}\n",
    "\n",
    "#Answer:\n",
    "\"\"\"\n",
    "\n",
    "prompt = PromptTemplate.from_template(\n",
    "    template=template,\n",
    "    partial_variables={\n",
    "        \"format_instructions\": output_parser.get_format_instructions()\n",
    "    }\n",
    ")\n",
    "\n",
    "chain = prompt | ChatOpenAI(temperature=0, model=\"gpt-4o\")| output_parser\n",
    "\n",
    "response = chain.invoke({\"question\" : \"Apple이 창업한 연도\"})\n",
    "\n",
    "print(response)\n",
    "\n",
    "print(response.strftime(\"%Y-%m-%d\"))"
   ]
  }
 ],
 "metadata": {
  "kernelspec": {
   "display_name": "langchain_env",
   "language": "python",
   "name": "python3"
  },
  "language_info": {
   "codemirror_mode": {
    "name": "ipython",
    "version": 3
   },
   "file_extension": ".py",
   "mimetype": "text/x-python",
   "name": "python",
   "nbconvert_exporter": "python",
   "pygments_lexer": "ipython3",
   "version": "3.11.10"
  }
 },
 "nbformat": 4,
 "nbformat_minor": 2
}
