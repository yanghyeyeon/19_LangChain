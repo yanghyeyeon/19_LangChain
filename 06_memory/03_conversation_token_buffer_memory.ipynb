{
 "cells": [
  {
   "cell_type": "markdown",
   "metadata": {},
   "source": [
    "### ConversationTokenBufferMemory\n",
    "* 대화의 히스토리를 메모리에 보관\n",
    "* 대화의 개수가 아닌 토큰의 길이를 사용해 대화내용을 내보내줌"
   ]
  },
  {
   "cell_type": "code",
   "execution_count": 1,
   "metadata": {},
   "outputs": [
    {
     "data": {
      "text/plain": [
       "True"
      ]
     },
     "execution_count": 1,
     "metadata": {},
     "output_type": "execute_result"
    }
   ],
   "source": [
    "from dotenv import load_dotenv\n",
    "\n",
    "load_dotenv()"
   ]
  },
  {
   "cell_type": "code",
   "execution_count": 17,
   "metadata": {},
   "outputs": [],
   "source": [
    "from langchain_openai import ChatOpenAI\n",
    "from langchain.memory import ConversationTokenBufferMemory \n",
    "\n",
    "llm = ChatOpenAI(\n",
    "    temperature=0,\n",
    "    model=\"gpt-4o\"\n",
    ")\n",
    "\n",
    "memory = ConversationTokenBufferMemory(\n",
    "    # 토큰수 계산을 위해, 실제 사용되는 LLM과 토큰화 방식을 일치시키기 위해\n",
    "    llm=llm,\n",
    "    max_token_limit=100,\n",
    "    return_messages=True\n",
    ")"
   ]
  },
  {
   "cell_type": "code",
   "execution_count": 18,
   "metadata": {},
   "outputs": [],
   "source": [
    "memory.save_context(\n",
    "    inputs={\n",
    "        \"human\": \"안녕하세요, 피자 한 판 주문하고 싶은데요. 어떤 피자가 있나요?\"\n",
    "    },\n",
    "    outputs={\n",
    "        \"ai\": \"안녕하세요! 저희 매장의 인기 메뉴로는 페퍼로니, 치즈, 하와이안, 콤비네이션 피자가 있습니다. 어떤 피자를 선호하시나요?\"\n",
    "    },\n",
    ")\n",
    "memory.save_context(\n",
    "    inputs={\"human\": \"페퍼로니 피자로 할게요. 크기는 어떻게 되나요?\"},\n",
    "    outputs={\n",
    "        \"ai\": \"페퍼로니 피자는 M(25cm), L(32cm), XL(40cm) 사이즈로 제공됩니다. 크기를 선택해 주세요.\"\n",
    "    },\n",
    ")\n",
    "memory.save_context(\n",
    "    inputs={\"human\": \"L 사이즈로 주문할게요. 도우는 어떤 종류가 있나요?\"},\n",
    "    outputs={\n",
    "        \"ai\": \"도우는 일반, 씬, 치즈크러스트 중에서 선택하실 수 있습니다. 어떤 도우로 하시겠어요?\"\n",
    "    },\n",
    ")\n",
    "memory.save_context(\n",
    "    inputs={\"human\": \"치즈크러스트로 할게요. 토핑 추가는 가능한가요?\"},\n",
    "    outputs={\n",
    "        \"ai\": \"네, 추가 토핑으로 모짜렐라 치즈, 올리브, 버섯, 피망, 양파를 선택하실 수 있습니다. 추가하실 토핑이 있으신가요?\"\n",
    "    },\n",
    ")\n",
    "memory.save_context(\n",
    "    inputs={\"human\": \"모짜렐라 치즈 추가로 주문할게요. 얼마인가요?\"},\n",
    "    outputs={\n",
    "        \"ai\": \"L사이즈 페퍼로니 피자(치즈크러스트) + 모짜렐라 치즈 추가는 총 28,000원입니다. 주문을 진행할까요?\"\n",
    "    },\n",
    ")\n",
    "memory.save_context(\n",
    "    inputs={\"human\": \"네, 주문할게요. 배달 시간은 얼마나 걸리나요?\"},\n",
    "    outputs={\n",
    "        \"ai\": \"주문이 완료되었습니다. 현재 예상 배달 시간은 약 40분입니다. 주문 현황은 문자메시지로 전송해 드리겠습니다. 감사합니다!\"\n",
    "    },\n",
    ")"
   ]
  },
  {
   "cell_type": "code",
   "execution_count": 19,
   "metadata": {},
   "outputs": [
    {
     "name": "stdout",
     "output_type": "stream",
     "text": [
      "[HumanMessage(content='네, 주문할게요. 배달 시간은 얼마나 걸리나요?', additional_kwargs={}, response_metadata={}), AIMessage(content='주문이 완료되었습니다. 현재 예상 배달 시간은 약 40분입니다. 주문 현황은 문자메시지로 전송해 드리겠습니다. 감사합니다!', additional_kwargs={}, response_metadata={})]\n"
     ]
    }
   ],
   "source": [
    "print(memory.load_memory_variables({})[\"history\"])"
   ]
  },
  {
   "cell_type": "code",
   "execution_count": 20,
   "metadata": {},
   "outputs": [
    {
     "name": "stdout",
     "output_type": "stream",
     "text": [
      "주문 내역을 확인해 드리겠습니다. 고객님께서 주문하신 항목은 다음과 같습니다:\n",
      "\n",
      "1. **마르게리타 피자** - 신선한 토마토 소스와 모짜렐라 치즈, 바질이 어우러진 클래식 피자입니다.\n",
      "2. **치킨 윙** - 바삭하게 튀겨진 치킨 윙 6조각, 매콤한 소스와 함께 제공됩니다.\n",
      "3. **시저 샐러드** - 신선한 로메인 상추와 크루통, 파마산 치즈가 들어간 샐러드로, 시저 드레싱이 곁들여져 있습니다.\n",
      "4. **콜라 1.5L** - 시원한 콜라 한 병입니다.\n",
      "\n",
      "주문하신 모든 항목은 약 40분 내에 배달될 예정입니다. 추가로 궁금한 사항이 있으시면 언제든지 말씀해 주세요!\n"
     ]
    }
   ],
   "source": [
    "from langchain.chains import ConversationChain\n",
    "\n",
    "conversation = ConversationChain(\n",
    "    llm=llm,\n",
    "    memory=memory\n",
    ")\n",
    "\n",
    "response = conversation.predict(\n",
    "    input=\"주문한 내역을 알려주세요\"\n",
    ")\n",
    "\n",
    "print(response)"
   ]
  }
 ],
 "metadata": {
  "kernelspec": {
   "display_name": "langchain_env",
   "language": "python",
   "name": "python3"
  },
  "language_info": {
   "codemirror_mode": {
    "name": "ipython",
    "version": 3
   },
   "file_extension": ".py",
   "mimetype": "text/x-python",
   "name": "python",
   "nbconvert_exporter": "python",
   "pygments_lexer": "ipython3",
   "version": "3.11.10"
  }
 },
 "nbformat": 4,
 "nbformat_minor": 2
}
