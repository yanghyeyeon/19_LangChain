{
 "cells": [
  {
   "cell_type": "markdown",
   "metadata": {},
   "source": [
    "### ConversationEntityMemory\n",
    "* 특정 엔티티에 대한 사실을 기억한다.\n",
    "* 엔티티에 대한 정보를 추출할때 LLM을 사용하고 해당 엔티티에 대한 지식을 지속적으로 축적한다.\n",
    "\n",
    "**엔티티**\n",
    "* 사람, 장소, 조직 같은 고유명사나 중요 개념을 의미"
   ]
  },
  {
   "cell_type": "code",
   "execution_count": 1,
   "metadata": {},
   "outputs": [
    {
     "data": {
      "text/plain": [
       "True"
      ]
     },
     "execution_count": 1,
     "metadata": {},
     "output_type": "execute_result"
    }
   ],
   "source": [
    "from dotenv import load_dotenv\n",
    "\n",
    "load_dotenv()"
   ]
  },
  {
   "cell_type": "code",
   "execution_count": 3,
   "metadata": {},
   "outputs": [
    {
     "name": "stdout",
     "output_type": "stream",
     "text": [
      "You are an assistant to a human, powered by a large language model trained by OpenAI.\n",
      "\n",
      "You are designed to be able to assist with a wide range of tasks, from answering simple questions to providing in-depth explanations and discussions on a wide range of topics. As a language model, you are able to generate human-like text based on the input you receive, allowing you to engage in natural-sounding conversations and provide responses that are coherent and relevant to the topic at hand.\n",
      "\n",
      "You are constantly learning and improving, and your capabilities are constantly evolving. You are able to process and understand large amounts of text, and can use this knowledge to provide accurate and informative responses to a wide range of questions. You have access to some personalized information provided by the human in the Context section below. Additionally, you are able to generate your own text based on the input you receive, allowing you to engage in discussions and provide explanations and descriptions on a wide range of topics.\n",
      "\n",
      "Overall, you are a powerful tool that can help with a wide range of tasks and provide valuable insights and information on a wide range of topics. Whether the human needs help with a specific question or just wants to have a conversation about a particular topic, you are here to assist.\n",
      "\n",
      "Context:\n",
      "{entities}\n",
      "\n",
      "Current conversation:\n",
      "{history}\n",
      "Last line:\n",
      "Human: {input}\n",
      "You:\n"
     ]
    }
   ],
   "source": [
    "from langchain.memory.prompt import ENTITY_MEMORY_CONVERSATION_TEMPLATE\n",
    "\n",
    "print(ENTITY_MEMORY_CONVERSATION_TEMPLATE.template)"
   ]
  },
  {
   "cell_type": "code",
   "execution_count": null,
   "metadata": {},
   "outputs": [],
   "source": [
    "\"\"\"\n",
    "당신은 OpenAI가 훈련한 대규모 언어 모델을 기반으로 하는 인간의 어시스턴트입니다.\n",
    "\n",
    "당신은 다음과 같은 능력을 가지고 있습니다:\n",
    "- 간단한 질문에서부터 심도 있는 설명과 토론까지 다양한 작업 지원\n",
    "- 입력받은 내용을 바탕으로 자연스러운 대화가 가능한 텍스트 생성\n",
    "- 주제에 맞는 일관성 있고 관련성 높은 응답 제공\n",
    "\n",
    "당신의 특징:\n",
    "- 지속적인 학습과 개선\n",
    "- 대량의 텍스트 처리 및 이해 능력\n",
    "- Context 섹션에서 제공된 개인화된 정보 접근 가능\n",
    "- 입력을 바탕으로 한 자체 텍스트 생성 및 설명 능력\n",
    "\n",
    "대화 구조:\n",
    "Context: {entities} \n",
    "History: {history}\n",
    "Current input: {input}\n",
    "\"\"\""
   ]
  },
  {
   "cell_type": "code",
   "execution_count": 4,
   "metadata": {},
   "outputs": [
    {
     "name": "stderr",
     "output_type": "stream",
     "text": [
      "C:\\Users\\20118\\AppData\\Local\\Temp\\ipykernel_7756\\109345487.py:13: LangChainDeprecationWarning: Please see the migration guide at: https://python.langchain.com/docs/versions/migrating_memory/\n",
      "  memory=ConversationEntityMemory(llm=llm)\n",
      "c:\\Users\\20118\\miniforge3\\envs\\langchain_env\\Lib\\site-packages\\pydantic\\main.py:212: LangChainDeprecationWarning: Please see the migration guide at: https://python.langchain.com/docs/versions/migrating_memory/\n",
      "  validated_self = self.__pydantic_validator__.validate_python(data, self_instance=self)\n",
      "C:\\Users\\20118\\AppData\\Local\\Temp\\ipykernel_7756\\109345487.py:10: LangChainDeprecationWarning: The class `ConversationChain` was deprecated in LangChain 0.2.7 and will be removed in 1.0. Use :meth:`~RunnableWithMessageHistory: https://python.langchain.com/v0.2/api_reference/core/runnables/langchain_core.runnables.history.RunnableWithMessageHistory.html` instead.\n",
      "  conversation = ConversationChain(\n"
     ]
    }
   ],
   "source": [
    "from langchain_openai import ChatOpenAI\n",
    "from langchain.chains import ConversationChain\n",
    "from langchain.memory import ConversationEntityMemory\n",
    "\n",
    "llm = ChatOpenAI(\n",
    "    temperature=0,\n",
    "    model=\"gpt-4o\"\n",
    ")\n",
    "\n",
    "conversation = ConversationChain(\n",
    "    llm=llm,\n",
    "    prompt=ENTITY_MEMORY_CONVERSATION_TEMPLATE,\n",
    "    memory=ConversationEntityMemory(llm=llm)\n",
    ")"
   ]
  },
  {
   "cell_type": "code",
   "execution_count": 9,
   "metadata": {},
   "outputs": [
    {
     "data": {
      "text/plain": [
       "'Bear와 Tiger가 개발한 대규모 언어 모델이 깃허브에서 10만 스타를 받은 것은 정말 대단한 성과입니다. 이 모델의 주요 기능이나 특징에 대해 더 알고 싶습니다. 예를 들어, 이 모델이 자연어 처리, 번역, 텍스트 생성 등 어떤 분야에서 특히 강점을 가지고 있는지, 그리고 어떤 문제를 해결하는 데 도움을 주고 있는지 설명해 주실 수 있나요? 또한, 이 모델이 다른 언어 모델과 비교했을 때 어떤 차별점이 있는지도 궁금합니다.'"
      ]
     },
     "execution_count": 9,
     "metadata": {},
     "output_type": "execute_result"
    }
   ],
   "source": [
    "conversation.predict(\n",
    "    input=\"Bear와 Tiger는 실리콘밸리의 유명 테크 기업 개발자입니다. \"\n",
    "    \"Bear는 백엔드 아키텍트이고 Tiger는 AI 엔지니어링 팀의 리더입니다. \"\n",
    "    \"그들은 최근 개발한 대규모 언어 모델이 깃허브에서 10만 스타를 받으며 오픈소스 커뮤니티에서 주목받고 있습니다.\"\n",
    ")"
   ]
  },
  {
   "cell_type": "code",
   "execution_count": 6,
   "metadata": {},
   "outputs": [
    {
     "name": "stdout",
     "output_type": "stream",
     "text": [
      "{'Bear': 'Bear는 실리콘밸리의 유명 테크 기업에서 백엔드 아키텍트로 활동하며, 최근 개발한 대규모 언어 모델이 깃허브에서 10만 스타를 받아 오픈소스 커뮤니티에서 주목받고 있습니다.', 'Tiger': 'Tiger는 실리콘밸리의 유명 테크 기업에서 AI 엔지니어링 팀의 리더로 활동하며, 최근 개발한 대규모 언어 모델이 깃허브에서 10만 스타를 받아 오픈소스 커뮤니티에서 주목받고 있습니다.', '실리콘밸리': '실리콘밸리는 유명 테크 기업들이 위치한 곳으로, Bear와 Tiger 같은 개발자들이 활동하고 있습니다.', '깃허브': '깃허브는 Bear와 Tiger가 개발한 대규모 언어 모델이 10만 스타를 받으며 오픈소스 커뮤니티에서 주목받고 있는 플랫폼입니다.', '오픈소스 커뮤니티': '오픈소스 커뮤니티는 Bear와 Tiger가 개발한 대규모 언어 모델이 깃허브에서 10만 스타를 받으며 주목받고 있습니다.'}\n"
     ]
    }
   ],
   "source": [
    "print(conversation.memory.entity_store.store)"
   ]
  },
  {
   "cell_type": "code",
   "execution_count": null,
   "metadata": {},
   "outputs": [
    {
     "data": {
      "text/plain": [
       "'Bear가 은퇴 후 강사로 활동하고 있다니 흥미롭네요! 실리콘밸리의 유명 테크 기업에서 백엔드 아키텍트로서의 경험을 바탕으로, 많은 학생들에게 귀중한 지식과 실무 경험을 전수할 수 있을 것 같습니다. Bear가 어떤 분야나 주제를 가르치고 있는지, 그리고 강사로서의 경험이 어떠한지 더 알고 싶습니다.'"
      ]
     },
     "execution_count": 10,
     "metadata": {},
     "output_type": "execute_result"
    }
   ],
   "source": [
    "conversation.predict(\n",
    "    input=\"Bear는 은퇴해서 강사를 하고 있다고 해 \"\n",
    ")"
   ]
  },
  {
   "cell_type": "code",
   "execution_count": 11,
   "metadata": {},
   "outputs": [
    {
     "name": "stdout",
     "output_type": "stream",
     "text": [
      "{'Bear': 'Bear는 실리콘밸리의 유명 테크 기업에서 백엔드 아키텍트로 활동하다가 은퇴 후 강사로 활동하고 있습니다.', 'Tiger': 'Tiger는 실리콘밸리의 유명 테크 기업에서 AI 엔지니어링 팀의 리더로 활동하며, 최근 개발한 대규모 언어 모델이 깃허브에서 10만 스타를 받아 오픈소스 커뮤니티에서 주목받고 있습니다.', '실리콘밸리': '실리콘밸리는 유명 테크 기업들이 위치한 곳으로, Bear와 Tiger 같은 개발자들이 활동하고 있으며, 그들이 개발한 대규모 언어 모델이 깃허브에서 10만 스타를 받았습니다.', '깃허브': '깃허브는 Bear와 Tiger가 개발한 대규모 언어 모델이 10만 스타를 받으며 오픈소스 커뮤니티에서 주목받고 있는 플랫폼입니다.', '오픈소스 커뮤니티': '오픈소스 커뮤니티는 Bear와 Tiger가 개발한 대규모 언어 모델이 깃허브에서 10만 스타를 받으며 주목받고 있습니다.'}\n"
     ]
    }
   ],
   "source": [
    "print(conversation.memory.entity_store.store)"
   ]
  }
 ],
 "metadata": {
  "kernelspec": {
   "display_name": "langchain_env",
   "language": "python",
   "name": "python3"
  },
  "language_info": {
   "codemirror_mode": {
    "name": "ipython",
    "version": 3
   },
   "file_extension": ".py",
   "mimetype": "text/x-python",
   "name": "python",
   "nbconvert_exporter": "python",
   "pygments_lexer": "ipython3",
   "version": "3.11.10"
  }
 },
 "nbformat": 4,
 "nbformat_minor": 2
}
