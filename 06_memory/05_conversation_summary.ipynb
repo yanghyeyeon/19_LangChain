{
 "cells": [
  {
   "cell_type": "markdown",
   "metadata": {},
   "source": [
    "### ConversationSummaryMemory\n",
    "* 시간 경과에 따른 대화의 요약을 생성해 기록한다.\n",
    "* 대화가 진행되는 동안 대화를 요약하고 현재 요약을 메모리에 저장하는 방식\n",
    "* 과거 메시지 기록을 프롬프트에 그대로 보관했을때 토큰을 많이 차지할 수 있는 긴대화에 유용"
   ]
  },
  {
   "cell_type": "code",
   "execution_count": 1,
   "metadata": {},
   "outputs": [
    {
     "data": {
      "text/plain": [
       "True"
      ]
     },
     "execution_count": 1,
     "metadata": {},
     "output_type": "execute_result"
    }
   ],
   "source": [
    "from dotenv import load_dotenv\n",
    "\n",
    "load_dotenv()"
   ]
  },
  {
   "cell_type": "code",
   "execution_count": 2,
   "metadata": {},
   "outputs": [
    {
     "name": "stderr",
     "output_type": "stream",
     "text": [
      "C:\\Users\\20118\\AppData\\Local\\Temp\\ipykernel_14460\\4104203100.py:9: LangChainDeprecationWarning: Please see the migration guide at: https://python.langchain.com/docs/versions/migrating_memory/\n",
      "  memory = ConversationSummaryMemory(\n"
     ]
    }
   ],
   "source": [
    "from langchain.memory import ConversationSummaryMemory\n",
    "from langchain_openai import ChatOpenAI\n",
    "\n",
    "llm = ChatOpenAI(\n",
    "    temperature=0,\n",
    "    model=\"gpt-4o\"\n",
    ")\n",
    "\n",
    "memory = ConversationSummaryMemory(\n",
    "    llm=llm,\n",
    "    return_messages=True\n",
    ")"
   ]
  },
  {
   "cell_type": "code",
   "execution_count": 3,
   "metadata": {},
   "outputs": [],
   "source": [
    "memory.save_context(\n",
    "    inputs={\"human\": \"최신 스마트폰의 가격대가 어떻게 되나요?\"},\n",
    "    outputs={\n",
    "        \"ai\": \"최신 플래그십 스마트폰의 기본 가격은 100만원대부터 시작합니다. 저장 용량과 모델에 따라 150만원까지 다양합니다. 중급형 모델은 50-80만원대에서 구매 가능합니다.\"\n",
    "    },\n",
    ")\n",
    "memory.save_context(\n",
    "    inputs={\"human\": \"배터리 성능은 어떤가요?\"},\n",
    "    outputs={\n",
    "        \"ai\": \"최신 모델들은 대부분 4500mAh 이상의 배터리를 탑재하고 있으며, 고속 충전을 지원합니다. 일반적인 사용시 하루 종일 사용 가능하며, 충전 시간은 30분에 50%, 1시간에 완충이 가능합니다.\"\n",
    "    },\n",
    ")\n",
    "memory.save_context(\n",
    "    inputs={\"human\": \"카메라 성능은 어떤가요?\"},\n",
    "    outputs={\n",
    "        \"ai\": \"메인 카메라는 50MP 이상을 지원하며, 울트라와이드와 망원 렌즈도 탑재되어 있습니다. AI 이미지 처리 기술로 야간 촬영도 우수하며, 8K 동영상 촬영도 가능합니다.\"\n",
    "    },\n",
    ")\n",
    "memory.save_context(\n",
    "    inputs={\"human\": \"AS 정책은 어떻게 되나요?\"},\n",
    "    outputs={\n",
    "        \"ai\": \"기본적으로 1년 무상 보증이 제공되며, 추가 보험 가입시 2년까지 연장 가능합니다. 전국 서비스센터에서 수리가 가능하고, 간단한 수리는 당일 처리됩니다.\"\n",
    "    },\n",
    ")\n",
    "memory.save_context(\n",
    "    inputs={\"human\": \"5G 지원과 저장 용량은 어떻게 되나요?\"},\n",
    "    outputs={\n",
    "        \"ai\": \"모든 최신 모델이 5G를 지원하며, 저장 용량은 128GB부터 시작해서 1TB까지 선택 가능합니다. 클라우드 저장소 서비스도 기본 제공됩니다.\"\n",
    "    },\n",
    ")\n",
    "memory.save_context(\n",
    "    inputs={\"human\": \"구매시 사은품이나 할인 혜택이 있나요?\"},\n",
    "    outputs={\n",
    "        \"ai\": \"이번 달 구매시 무선이어폰이 증정되며, 카드사 제휴 할인시 최대 10% 할인이 가능합니다. 또한 기존 폰 보상 판매시 추가 할인도 받으실 수 있습니다.\"\n",
    "    },\n",
    ")\n",
    "memory.save_context(\n",
    "    inputs={\"human\": \"방수 등급과 내구성은 어떤가요?\"},\n",
    "    outputs={\n",
    "        \"ai\": \"IP68 등급으로 1.5미터 깊이의 물에서 30분간 견딜 수 있으며, 고릴라 글래스 적용으로 스크래치에 강합니다. 또한 프레임은 항공기급 알루미늄을 사용해 내구성이 뛰어납니다.\"\n",
    "    },\n",
    ")"
   ]
  },
  {
   "cell_type": "markdown",
   "metadata": {},
   "source": [
    "이전의 모든 대화를 압축해 요약한 내용을 확인 가능"
   ]
  },
  {
   "cell_type": "code",
   "execution_count": 4,
   "metadata": {},
   "outputs": [
    {
     "name": "stdout",
     "output_type": "stream",
     "text": [
      "[SystemMessage(content='The human asks about the price range of the latest smartphones. The AI responds that flagship smartphones start at around 1 million won, with prices varying up to 1.5 million won depending on storage and model. Mid-range models are available for 500,000 to 800,000 won. The human inquires about battery performance, and the AI explains that most latest models have batteries over 4500mAh, support fast charging, and can last all day with typical use. Charging can reach 50% in 30 minutes and full charge in an hour. The human then asks about camera performance, and the AI states that the main camera supports over 50MP, includes ultra-wide and telephoto lenses, excels in night photography with AI image processing, and can record 8K videos. The human asks about the after-sales policy, and the AI explains that a 1-year free warranty is provided, which can be extended to 2 years with additional insurance. Repairs can be done at nationwide service centers, with simple repairs completed on the same day. The human inquires about 5G support and storage capacity, and the AI confirms that all latest models support 5G, with storage options ranging from 128GB to 1TB, and basic cloud storage services are also provided. The human asks about promotional offers or discounts, and the AI mentions that purchasing this month includes free wireless earbuds, up to a 10% discount with partner credit cards, and additional discounts for trade-ins of old phones. The human then asks about water resistance and durability, and the AI explains that the phones have an IP68 rating, can withstand 1.5 meters of water for 30 minutes, feature Gorilla Glass for scratch resistance, and use aircraft-grade aluminum for enhanced durability.', additional_kwargs={}, response_metadata={})]\n"
     ]
    }
   ],
   "source": [
    "print(memory.load_memory_variables({})[\"history\"])"
   ]
  },
  {
   "cell_type": "markdown",
   "metadata": {},
   "source": [
    "### ConversationSummaryBufferMemory\n",
    "* 최근 대화내용의 버프를 메모리에 유지하고, 이전 대화내용을 완전히 지우지 않고 요약해 저장한다.\n",
    "* 대화내용을 지울 시기를 결정할때는 토큰의 길이를 사용한다."
   ]
  },
  {
   "cell_type": "code",
   "execution_count": 5,
   "metadata": {},
   "outputs": [
    {
     "name": "stderr",
     "output_type": "stream",
     "text": [
      "C:\\Users\\20118\\AppData\\Local\\Temp\\ipykernel_14460\\869132805.py:9: LangChainDeprecationWarning: Please see the migration guide at: https://python.langchain.com/docs/versions/migrating_memory/\n",
      "  memory = ConversationSummaryBufferMemory(\n"
     ]
    }
   ],
   "source": [
    "from langchain_openai import ChatOpenAI\n",
    "from langchain.memory import ConversationSummaryBufferMemory\n",
    "\n",
    "llm = ChatOpenAI(\n",
    "    temperature=0,\n",
    "    model=\"gpt-4o\"\n",
    ")\n",
    "\n",
    "memory = ConversationSummaryBufferMemory(\n",
    "    llm=llm,\n",
    "    max_token_limit=200, # 요약의 기준\n",
    "    return_messages=True\n",
    ")"
   ]
  },
  {
   "cell_type": "code",
   "execution_count": 6,
   "metadata": {},
   "outputs": [],
   "source": [
    "memory.save_context(\n",
    "    inputs={\n",
    "        \"human\" : \"자동차 렌트 비용은 얼마인가요?\"\n",
    "    },\n",
    "    outputs={\n",
    "        \"ai\" : \"저희 렌트카의 기본 대여 비용은 하루 5만원 입니다. 여기에는 기본 보험료와 GPS 네비게이션이 포함되어있습니다.\"\n",
    "        \"차종에 따라 추가 비용이 발생 할 수 있으면, 장기 렌트시 할인 혜택이 제공됩니다.\"\n",
    "    }\n",
    ")"
   ]
  },
  {
   "cell_type": "code",
   "execution_count": 7,
   "metadata": {},
   "outputs": [
    {
     "name": "stdout",
     "output_type": "stream",
     "text": [
      "[HumanMessage(content='자동차 렌트 비용은 얼마인가요?', additional_kwargs={}, response_metadata={}), AIMessage(content='저희 렌트카의 기본 대여 비용은 하루 5만원 입니다. 여기에는 기본 보험료와 GPS 네비게이션이 포함되어있습니다.차종에 따라 추가 비용이 발생 할 수 있으면, 장기 렌트시 할인 혜택이 제공됩니다.', additional_kwargs={}, response_metadata={})]\n"
     ]
    }
   ],
   "source": [
    "print(memory.load_memory_variables({})[\"history\"])"
   ]
  },
  {
   "cell_type": "markdown",
   "metadata": {},
   "source": [
    "* 대화내용이 200토큰을 넘길경우"
   ]
  },
  {
   "cell_type": "code",
   "execution_count": 8,
   "metadata": {},
   "outputs": [],
   "source": [
    "memory.save_context(\n",
    "    inputs={\"human\": \"차량 종류는 어떤 것이 있나요?\"},\n",
    "    outputs={\n",
    "        \"ai\": \"저희 렌터카는 경차, 중형차, SUV, 승합차 등 다양한 차종을 보유하고 있습니다. 경차는 일 3만원부터, 중형차는 5만원부터, SUV는 7만원부터, 승합차는 10만원부터 시작합니다.\"\n",
    "    },\n",
    ")\n",
    "memory.save_context(\n",
    "    inputs={\"human\": \"보험 종류와 비용은 어떻게 되나요?\"},\n",
    "    outputs={\n",
    "        \"ai\": \"기본 보험은 대인/대물 보험이 포함되어 있으며, 추가로 자차 보험은 일 1만원, 완전 종합보험은 일 2만원입니다. 장기 렌트 시 보험료 할인 혜택도 제공됩니다.\"\n",
    "    },\n",
    ")\n",
    "memory.save_context(\n",
    "    inputs={\n",
    "        \"human\": \"카시트 대여도 가능한가요?\"\n",
    "    },\n",
    "    outputs={\n",
    "        \"ai\": \"네, 카시트 대여가 가능합니다. 영유아용/어린이용 카시트를 구비하고 있으며, 일 1만원의 비용으로 대여 가능합니다. 사전 예약을 추천드립니다.\"\n",
    "    },\n",
    ")\n",
    "memory.save_context(\n",
    "    inputs={\"human\": \"연료는 어떻게 반납해야 하나요?\"},\n",
    "    outputs={\n",
    "        \"ai\": \"차량 인수 시와 동일한 연료량으로 반납하셔야 합니다. 연료가 부족할 경우 실제 주유비에 추가 서비스 요금이 부과됩니다. 인근 주유소 위치는 저희가 안내해 드립니다.\"\n",
    "    },\n",
    ")"
   ]
  },
  {
   "cell_type": "code",
   "execution_count": 9,
   "metadata": {},
   "outputs": [
    {
     "name": "stdout",
     "output_type": "stream",
     "text": [
      "[SystemMessage(content='The human asks about the cost of renting a car. The AI responds that the basic rental cost is 50,000 won per day, which includes basic insurance and a GPS navigation system. Additional costs may apply depending on the car model, and discounts are available for long-term rentals. The AI further explains that they offer a variety of car types, including compact cars, mid-sized cars, SUVs, and vans, with prices starting at 30,000 won per day for compact cars, 50,000 won for mid-sized cars, 70,000 won for SUVs, and 100,000 won for vans. The human then inquires about the types and costs of insurance.', additional_kwargs={}, response_metadata={}), AIMessage(content='기본 보험은 대인/대물 보험이 포함되어 있으며, 추가로 자차 보험은 일 1만원, 완전 종합보험은 일 2만원입니다. 장기 렌트 시 보험료 할인 혜택도 제공됩니다.', additional_kwargs={}, response_metadata={}), HumanMessage(content='카시트 대여도 가능한가요?', additional_kwargs={}, response_metadata={}), AIMessage(content='네, 카시트 대여가 가능합니다. 영유아용/어린이용 카시트를 구비하고 있으며, 일 1만원의 비용으로 대여 가능합니다. 사전 예약을 추천드립니다.', additional_kwargs={}, response_metadata={}), HumanMessage(content='연료는 어떻게 반납해야 하나요?', additional_kwargs={}, response_metadata={}), AIMessage(content='차량 인수 시와 동일한 연료량으로 반납하셔야 합니다. 연료가 부족할 경우 실제 주유비에 추가 서비스 요금이 부과됩니다. 인근 주유소 위치는 저희가 안내해 드립니다.', additional_kwargs={}, response_metadata={})]\n"
     ]
    }
   ],
   "source": [
    "print(memory.load_memory_variables({})[\"history\"])"
   ]
  },
  {
   "cell_type": "code",
   "execution_count": 17,
   "metadata": {},
   "outputs": [],
   "source": [
    "from langchain.chains import ConversationChain\n",
    "\n",
    "conversation = ConversationChain(\n",
    "    llm=llm,\n",
    "    memory=memory,\n",
    "    verbose=True\n",
    ")"
   ]
  },
  {
   "cell_type": "code",
   "execution_count": 18,
   "metadata": {},
   "outputs": [
    {
     "name": "stdout",
     "output_type": "stream",
     "text": [
      "\n",
      "\n",
      "\u001b[1m> Entering new ConversationChain chain...\u001b[0m\n",
      "Prompt after formatting:\n",
      "\u001b[32;1m\u001b[1;3mThe following is a friendly conversation between a human and an AI. The AI is talkative and provides lots of specific details from its context. If the AI does not know the answer to a question, it truthfully says it does not know.\n",
      "\n",
      "Current conversation:\n",
      "[SystemMessage(content='The human asks about the cost of renting a car. The AI responds that the basic rental cost is 50,000 won per day, which includes basic insurance and a GPS navigation system. Additional costs may apply depending on the car model, and discounts are available for long-term rentals. The AI further explains that they offer a variety of car types, including compact cars, mid-sized cars, SUVs, and vans, with prices starting at 30,000 won per day for compact cars, 50,000 won for mid-sized cars, 70,000 won for SUVs, and 100,000 won for vans. The human then inquires about the types and costs of insurance.', additional_kwargs={}, response_metadata={}), AIMessage(content='기본 보험은 대인/대물 보험이 포함되어 있으며, 추가로 자차 보험은 일 1만원, 완전 종합보험은 일 2만원입니다. 장기 렌트 시 보험료 할인 혜택도 제공됩니다.', additional_kwargs={}, response_metadata={}), HumanMessage(content='카시트 대여도 가능한가요?', additional_kwargs={}, response_metadata={}), AIMessage(content='네, 카시트 대여가 가능합니다. 영유아용/어린이용 카시트를 구비하고 있으며, 일 1만원의 비용으로 대여 가능합니다. 사전 예약을 추천드립니다.', additional_kwargs={}, response_metadata={}), HumanMessage(content='연료는 어떻게 반납해야 하나요?', additional_kwargs={}, response_metadata={}), AIMessage(content='차량 인수 시와 동일한 연료량으로 반납하셔야 합니다. 연료가 부족할 경우 실제 주유비에 추가 서비스 요금이 부과됩니다. 인근 주유소 위치는 저희가 안내해 드립니다.', additional_kwargs={}, response_metadata={})]\n",
      "Human: 차량 종류를 알려주세요\n",
      "AI:\u001b[0m\n",
      "\n",
      "\u001b[1m> Finished chain.\u001b[0m\n",
      "저희는 다양한 차량 종류를 제공하고 있습니다. 고객님의 필요에 맞게 선택하실 수 있습니다. \n",
      "\n",
      "1. **소형차 (Compact Cars)**: 경제적이고 주차가 용이한 소형차는 일 30,000원부터 시작합니다. 주로 도심 주행에 적합합니다.\n",
      "   \n",
      "2. **중형차 (Mid-sized Cars)**: 가족 여행이나 조금 더 넓은 공간이 필요한 경우 중형차를 추천드립니다. 일 50,000원부터 시작합니다.\n",
      "   \n",
      "3. **SUV**: 넓은 공간과 강력한 주행 성능을 제공하는 SUV는 일 70,000원부터 시작합니다. 장거리 여행이나 다양한 지형에서의 주행에 적합합니다.\n",
      "   \n",
      "4. **밴 (Vans)**: 대가족이나 단체 여행에 적합한 밴은 일 100,000원부터 시작합니다. 많은 인원과 짐을 수용할 수 있습니다.\n",
      "\n",
      "각 차량은 기본적으로 GPS 내비게이션 시스템과 기본 보험이 포함되어 있으며, 필요에 따라 추가 옵션을 선택하실 수 있습니다.\n"
     ]
    }
   ],
   "source": [
    "response = conversation.predict(\n",
    "    input=\"차량 종류를 알려주세요\"\n",
    ")\n",
    "print(response)"
   ]
  }
 ],
 "metadata": {
  "kernelspec": {
   "display_name": "langchain_env",
   "language": "python",
   "name": "python3"
  },
  "language_info": {
   "codemirror_mode": {
    "name": "ipython",
    "version": 3
   },
   "file_extension": ".py",
   "mimetype": "text/x-python",
   "name": "python",
   "nbconvert_exporter": "python",
   "pygments_lexer": "ipython3",
   "version": "3.11.10"
  }
 },
 "nbformat": 4,
 "nbformat_minor": 2
}
