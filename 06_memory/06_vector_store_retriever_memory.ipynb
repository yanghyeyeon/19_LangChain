{
 "cells": [
  {
   "cell_type": "markdown",
   "metadata": {},
   "source": [
    "### VectorStoreRetrieverMemory\n",
    "* 벡터 스토어에 메모리를 저장하고 호출될때마다 유사도가 높은 상위 K개의 문서를 가져온다.\n",
    "* 대화내용의 순서를 명시적으로 추적하지 않는다."
   ]
  },
  {
   "cell_type": "code",
   "execution_count": null,
   "metadata": {},
   "outputs": [
    {
     "data": {
      "text/plain": [
       "True"
      ]
     },
     "execution_count": 1,
     "metadata": {},
     "output_type": "execute_result"
    }
   ],
   "source": [
    "from dotenv import load_dotenv\n",
    "\n",
    "load_dotenv()                                                                                                                                                                                                                                                                                                                                                                                                                                                                                                                                                                                                                                                                      "
   ]
  },
  {
   "cell_type": "code",
   "execution_count": null,
   "metadata": {},
   "outputs": [],
   "source": [
    "import faiss\n",
    "from langchain_openai import OpenAIEmbeddings\n",
    "from langchain.docstore import InMemoryDocstore # 메모리 안에 문서를 저장하는 저장소\n",
    "from langchain.vectorstores import FAISS\n",
    "\n",
    "# 임베딩 모델 정의\n",
    "embeddings_model = OpenAIEmbeddings()\n",
    "\n",
    "# vectorstore\n",
    "# 1536 차원의 백터로 생성 (text-embedding0ada-002)\n",
    "embedding_size = 1536\n",
    "\n",
    "# 백터간 유사도를 계산 인덱스\n",
    "index = faiss.IndexFlatL2(embedding_size)\n",
    "\n",
    "vectorstore = FAISS(embeddings_model, index, InMemoryDocstore({}), {})"
   ]
  },
  {
   "cell_type": "code",
   "execution_count": 3,
   "metadata": {},
   "outputs": [
    {
     "name": "stderr",
     "output_type": "stream",
     "text": [
      "C:\\Users\\20118\\AppData\\Local\\Temp\\ipykernel_8428\\4099233319.py:5: LangChainDeprecationWarning: Please see the migration guide at: https://python.langchain.com/docs/versions/migrating_memory/\n",
      "  memory = VectorStoreRetrieverMemory(retriever=retriever)\n"
     ]
    }
   ],
   "source": [
    "from langchain.memory import VectorStoreRetrieverMemory\n",
    "\n",
    "# 검색기\n",
    "retriever = vectorstore.as_retriever(search_kwargs={\"k\": 2})\n",
    "memory = VectorStoreRetrieverMemory(retriever=retriever)\n",
    "\n",
    "memory.save_context(\n",
    "    inputs={\n",
    "        \"human\": \"안녕하세요, 오늘 면접에 참석해주셔서 감사합니다. 자기소개 부탁드립니다.\"\n",
    "    },\n",
    "    outputs={\n",
    "        \"ai\": \"안녕하세요. 저는 경영학을 전공했지만 개발에 대한 열정으로 독학하여 개발자가 된 신입입니다. 부트캠프를 통해 웹 개발을 배웠고, 현재는 자바스크립트와 리액트를 주로 사용하여 개발하고 있습니다.\"\n",
    "    },\n",
    ")\n",
    "memory.save_context(\n",
    "    inputs={\"human\": \"프로젝트에서 어떤 역할을 맡았나요?\"},\n",
    "    outputs={\n",
    "        \"ai\": \"부트캠프 팀 프로젝트에서 프론트엔드 개발을 담당했습니다. 사용자 인터페이스 구현과 API 연동을 맡았으며, 특히 반응형 웹 디자인과 사용자 경험 개선에 중점을 두었습니다. 또한 기획 단계에서부터 참여하여 서비스의 전반적인 방향성 설정에도 기여했습니다.\"\n",
    "    },\n",
    ")\n",
    "memory.save_context(\n",
    "    inputs={\n",
    "        \"human\": \"팀 프로젝트에서 어려움을 겪었던 경험이 있다면 어떻게 해결했나요?\"\n",
    "    },\n",
    "    outputs={\n",
    "        \"ai\": \"비전공자로서 기술적 지식이 부족한 부분이 있었지만, 이를 극복하기 위해 매일 2시간씩 추가 학습을 하고 팀원들에게 적극적으로 질문했습니다. 또한 제가 가진 경영학 지식을 활용하여 사용자 관점에서의 피드백을 제공하고, 프로젝트의 비즈니스 가치를 높이는데 기여했습니다.\"\n",
    "    },\n",
    ")\n",
    "memory.save_context(\n",
    "    inputs={\"human\": \"개발자로서 자신의 강점은 무엇이라고 생각하나요?\"},\n",
    "    outputs={\n",
    "        \"ai\": \"제 가장 큰 강점은 새로운 기술을 배우는 것에 대한 열정과 끊임없는 학습 의지입니다. 비전공자로서 처음 개발을 시작했을 때부터 지금까지 꾸준히 공부하며 성장해왔고, 앞으로도 계속해서 발전하고자 하는 마음가짐을 가지고 있습니다. 이러한 학습에 대한 열정을 바탕으로 빠르게 변화하는 기술 트렌드에도 잘 적응할 수 있으며, 문제 해결 능력도 지속적으로 향상시키고 있습니다.\"\n",
    "    },\n",
    ")"
   ]
  },
  {
   "cell_type": "code",
   "execution_count": 4,
   "metadata": {},
   "outputs": [
    {
     "name": "stdout",
     "output_type": "stream",
     "text": [
      "human: 안녕하세요, 오늘 면접에 참석해주셔서 감사합니다. 자기소개 부탁드립니다.\n",
      "ai: 안녕하세요. 저는 경영학을 전공했지만 개발에 대한 열정으로 독학하여 개발자가 된 신입입니다. 부트캠프를 통해 웹 개발을 배웠고, 현재는 자바스크립트와 리액트를 주로 사용하여 개발하고 있습니다.\n",
      "human: 팀 프로젝트에서 어려움을 겪었던 경험이 있다면 어떻게 해결했나요?\n",
      "ai: 비전공자로서 기술적 지식이 부족한 부분이 있었지만, 이를 극복하기 위해 매일 2시간씩 추가 학습을 하고 팀원들에게 적극적으로 질문했습니다. 또한 제가 가진 경영학 지식을 활용하여 사용자 관점에서의 피드백을 제공하고, 프로젝트의 비즈니스 가치를 높이는데 기여했습니다.\n"
     ]
    }
   ],
   "source": [
    "print(memory.load_memory_variables({\"human\" : \"면접자의 경험은 무엇인가요?\"})[\"history\"])"
   ]
  }
 ],
 "metadata": {
  "kernelspec": {
   "display_name": "langchain_env",
   "language": "python",
   "name": "python3"
  },
  "language_info": {
   "codemirror_mode": {
    "name": "ipython",
    "version": 3
   },
   "file_extension": ".py",
   "mimetype": "text/x-python",
   "name": "python",
   "nbconvert_exporter": "python",
   "pygments_lexer": "ipython3",
   "version": "3.11.10"
  }
 },
 "nbformat": 4,
 "nbformat_minor": 2
}
