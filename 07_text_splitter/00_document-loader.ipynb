{
 "cells": [
  {
   "cell_type": "markdown",
   "metadata": {},
   "source": [
    "### Document Loaders\n",
    "\n",
    "**참고**\n",
    "https://python.langchain.com/v0.1/docs/modules/data_connection/document_loaders/csv/\n",
    "\n",
    "### Document\n",
    "* Langchain에서 만들어 놓은 기본 문서 객체\n",
    "* 속성\n",
    "    * page_content: 문서의 내용을 나타내는 문자열\n",
    "    * metadata: 문서의 메타데이터를 나타내는 딕셔너리"
   ]
  },
  {
   "cell_type": "code",
   "execution_count": 1,
   "metadata": {},
   "outputs": [],
   "source": [
    "from langchain_core.documents import Document\n",
    "\n",
    "document = Document(page_content=\"우리가 만든 도큐먼트 입니다.\")"
   ]
  },
  {
   "cell_type": "code",
   "execution_count": 4,
   "metadata": {},
   "outputs": [
    {
     "data": {
      "text/plain": [
       "{'id': None,\n",
       " 'metadata': {'page': 1, 'author': 'bear'},\n",
       " 'page_content': '우리가 만든 도큐먼트 입니다.',\n",
       " 'type': 'Document'}"
      ]
     },
     "execution_count": 4,
     "metadata": {},
     "output_type": "execute_result"
    }
   ],
   "source": [
    "document.__dict__"
   ]
  },
  {
   "cell_type": "code",
   "execution_count": 3,
   "metadata": {},
   "outputs": [],
   "source": [
    "document.metadata[\"page\"] = 1\n",
    "document.metadata[\"author\"] = \"bear\""
   ]
  },
  {
   "cell_type": "markdown",
   "metadata": {},
   "source": [
    "### Document Loader\n",
    "* 다양한 파일 형식으로부터 불러온 내용을 Document 객체로 변환하는 역할\n",
    "\n",
    "**주요 Loader**\n",
    "* PyPDFLoader : PDF파일을 로드하는 로더\n",
    "* CSVLoader : CSV파일을 로드하는 로더\n",
    "* UnstrururedGTMLLoader : HTML 파일 로드하는 로더\n",
    "* JSONLoader : JSON 파일을 로드하는 로더\n",
    "* TextLoader : 텍스트 파일을 로드하는 로더\n",
    "* DirectoryLoader : 디렉토리 로드하는 로더"
   ]
  },
  {
   "cell_type": "code",
   "execution_count": 5,
   "metadata": {},
   "outputs": [],
   "source": [
    "FILE_PATH = \"./data/snow-white.pdf\""
   ]
  },
  {
   "cell_type": "code",
   "execution_count": 8,
   "metadata": {},
   "outputs": [
    {
     "name": "stdout",
     "output_type": "stream",
     "text": [
      "Collecting pypdf\n",
      "  Downloading pypdf-5.1.0-py3-none-any.whl.metadata (7.2 kB)\n",
      "Downloading pypdf-5.1.0-py3-none-any.whl (297 kB)\n",
      "Installing collected packages: pypdf\n",
      "Successfully installed pypdf-5.1.0\n"
     ]
    }
   ],
   "source": [
    "!pip install pypdf"
   ]
  },
  {
   "cell_type": "code",
   "execution_count": 9,
   "metadata": {},
   "outputs": [],
   "source": [
    "from langchain_community.document_loaders import PyPDFLoader\n",
    "\n",
    "loader = PyPDFLoader(FILE_PATH)"
   ]
  },
  {
   "cell_type": "markdown",
   "metadata": {},
   "source": [
    "**load()**\n",
    "* 문서를 로드하여 반환\n",
    "* 반환된 겨과는 List[Document] 형태"
   ]
  },
  {
   "cell_type": "code",
   "execution_count": 10,
   "metadata": {},
   "outputs": [
    {
     "data": {
      "text/plain": [
       "6"
      ]
     },
     "execution_count": 10,
     "metadata": {},
     "output_type": "execute_result"
    }
   ],
   "source": [
    "docs = loader.load()\n",
    "\n",
    "len(docs)"
   ]
  },
  {
   "cell_type": "code",
   "execution_count": 11,
   "metadata": {},
   "outputs": [
    {
     "data": {
      "text/plain": [
       "Document(metadata={'source': './data/snow-white.pdf', 'page': 0}, page_content='백설공주\\n옛날 어느 왕국에 공주님이 태어났어요.\\n“어쩜 이렇게 어여쁠까? 살결이 눈처럼 하얗구나. 백\\n설공주라고 불러야겠다.”\\n왕과 왕비는 갓 태어난 딸을 보며 기뻐했어요.\\n하지만 기쁨도 잠시, 왕비는 곧 세상을 떠나고 말았어\\n요.\\n')"
      ]
     },
     "execution_count": 11,
     "metadata": {},
     "output_type": "execute_result"
    }
   ],
   "source": [
    "docs[0]"
   ]
  },
  {
   "cell_type": "markdown",
   "metadata": {},
   "source": [
    "**load_and_split()**\n",
    "* splitter를 사용해 문서를 분할하고 반환한다.\n",
    "* 반환된 결과는 Lis[Document]형태이다."
   ]
  },
  {
   "cell_type": "code",
   "execution_count": 21,
   "metadata": {},
   "outputs": [
    {
     "name": "stdout",
     "output_type": "stream",
     "text": [
      "문서 수 : 13\n",
      "page_content='백설공주\n",
      "옛날 어느 왕국에 공주님이 태어났어요.\n",
      "“어쩜 이렇게 어여쁠까? 살결이 눈처럼 하얗구나. 백\n",
      "설공주라고 불러야겠다.”\n",
      "왕과 왕비는 갓 태어난 딸을 보며 기뻐했어요.\n",
      "하지만 기쁨도 잠시, 왕비는 곧 세상을 떠나고 말았어\n",
      "요.' metadata={'source': './data/snow-white.pdf', 'page': 0}\n"
     ]
    }
   ],
   "source": [
    "from langchain_text_splitters import RecursiveCharacterTextSplitter\n",
    "\n",
    "text_splitter = RecursiveCharacterTextSplitter(chunk_size = 200, chunk_overlap=10)\n",
    "\n",
    "# 파일 경로\n",
    "FILE_PATH = \"./data/snow-white.pdf\"\n",
    "\n",
    "# 로더 설정\n",
    "loader = PyPDFLoader(FILE_PATH)\n",
    "\n",
    "# 문서 로드 및 분할\n",
    "split_docs = loader.load_and_split(text_splitter=text_splitter)\n",
    "\n",
    "# 로드된 문서 수\n",
    "print(f\"문서 수 : {len(split_docs)}\")\n",
    "\n",
    "# 첫번째 문서 확인\n",
    "print(split_docs[0])"
   ]
  },
  {
   "cell_type": "markdown",
   "metadata": {},
   "source": [
    "lazy_load()\n",
    "* generator 방식으로 문서를 로드\n",
    "* 문서를 필요로 할때마다 하나씩 로드하는 방식"
   ]
  },
  {
   "cell_type": "code",
   "execution_count": 18,
   "metadata": {},
   "outputs": [
    {
     "data": {
      "text/plain": [
       "<generator object PyPDFLoader.lazy_load at 0x000001B4E179E2F0>"
      ]
     },
     "execution_count": 18,
     "metadata": {},
     "output_type": "execute_result"
    }
   ],
   "source": [
    "loader.lazy_load()"
   ]
  },
  {
   "cell_type": "code",
   "execution_count": 19,
   "metadata": {},
   "outputs": [
    {
     "name": "stdout",
     "output_type": "stream",
     "text": [
      "{'source': './data/snow-white.pdf', 'page': 0}\n",
      "{'source': './data/snow-white.pdf', 'page': 1}\n",
      "{'source': './data/snow-white.pdf', 'page': 2}\n",
      "{'source': './data/snow-white.pdf', 'page': 3}\n",
      "{'source': './data/snow-white.pdf', 'page': 4}\n",
      "{'source': './data/snow-white.pdf', 'page': 5}\n"
     ]
    }
   ],
   "source": [
    "for doc in loader.lazy_load():\n",
    "    print(doc.metadata)"
   ]
  },
  {
   "cell_type": "markdown",
   "metadata": {},
   "source": [
    "### aload()\n",
    "- 비동기 방식의 문서 로드"
   ]
  },
  {
   "cell_type": "code",
   "execution_count": 20,
   "metadata": {},
   "outputs": [
    {
     "data": {
      "text/plain": [
       "[Document(metadata={'source': './data/snow-white.pdf', 'page': 0}, page_content='백설공주\\n옛날 어느 왕국에 공주님이 태어났어요.\\n“어쩜 이렇게 어여쁠까? 살결이 눈처럼 하얗구나. 백\\n설공주라고 불러야겠다.”\\n왕과 왕비는 갓 태어난 딸을 보며 기뻐했어요.\\n하지만 기쁨도 잠시, 왕비는 곧 세상을 떠나고 말았어\\n요.\\n'),\n",
       " Document(metadata={'source': './data/snow-white.pdf', 'page': 1}, page_content='왕은 아름다운 새 왕비를 맞았어요.\\n그런데 새 왕비는 자기보다 아름다운 사람을 두고 보\\n지 못했어요.\\n왕비는 진실만을 말하는 요술 거울에게 늘 이렇게 물\\n었어요.\\n“거울아, 거울아. 이 세상에서 누가 가장 아름답니?”\\n“이 세상에서 가장 아름다운 사람은 왕비님입니다.”\\n그 대답을 들어야만 차가운 왕비 얼굴에 미소가 번졌\\n지요.\\n시간이 흘러 백설공주는 어여쁜 소녀가 되었어요.\\n어느 날, 왕비는 요술 거울에게 물었지요.\\n“거울아, 거울아. 이 세상에서 누가 가장 아름답니?”\\n“왕비님도 아름답지만 백설공주가 더 아름답습니다.”\\n화가 난 왕비는 사냥꾼을 불렀어요.\\n왕비는 사냥꾼에게 백설공주를 죽이라고 명령했어요.\\n하지만 사냥꾼은 차마 그럴 수 없었어요.\\n“가여운 공주님, 왕비님이 찾지 못하도록 멀리멀리 떠\\n나세요.”\\n백설공주는 울면서 숲으로 도망쳤어요.\\n'),\n",
       " Document(metadata={'source': './data/snow-white.pdf', 'page': 2}, page_content='숲속을 헤매던 백설공주는 외딴 오두막에 이르렀어요.\\n들여다보니 오두막은 비어 있었어요.\\n“아무도 없네. 좀 쉬어 가도 될까? 어? 신기하다! 모든 게 작아. \\n어어? 이상하다! 모든 게 일곱. 의자도 일곱, 접시도 일곱. 어머, \\n침대도 일곱 개네.”\\n도망치느라 치진 백설공주는 식탁 위에 있던 빵을 먹고 나서\\n일곱 번째 침대에 쓰러져 잠들었어요.\\n밤이 되자 오두막 주인인 일곱 난쟁이가 돌아왔어요.\\n난쟁이들은 집 안이 어질러진 것을 보고 깜짝 놀랐지요.\\n일곱째 난쟁이가 큰 소리로 외쳤어요.\\n“누가 내 침대에서 자고 있어!”\\n북적이는 소리에 잠이 깬 백설공주는 왕비를 피해 도망쳤다고\\n이야기했어요.\\n“불쌍한 공주님, 우리와 함께 살아요. 조심조심 또 조심. 낯선\\n사람에게는 문을 열어 주지 마세요.”\\n며칠이 지나 왕비는 다시 요술 거울에게 누가 가장 아름다운\\n지 물었어요.\\n“왕비님도 아름답지만 백설공주님이 천배는 더 아름답습니다.”\\n“사냥꾼이 날 속였구나. 내가 직접 해치우겠어!”\\n'),\n",
       " Document(metadata={'source': './data/snow-white.pdf', 'page': 3}, page_content='왕비는 먹음직스럽게 생긴 사과를 골라 독을 발랐어요.\\n그리고 과일 장수로 변장했지요.\\n왕비는 산을 넘고 또 넘어 일곱 난쟁이의 오두막에 도착했어요.\\n“새콤달콤 맛있는 사과가 있어요. 아가씨의 붉은 입술처럼 새빨\\n간 사과랍니다. 잠깐 문을 열어 보세요.”\\n백설공주는 고개를 저었어요.\\n“난쟁이들이 문을 열어 주지 말라고 했어요.”\\n백설공주가 거절하자, 왕비는 창문 틈새로 사과를 쑥 내밀었어\\n요.\\n“그럼, 맛이라도 봐요. 정말 맛있으니까. 둘이 먹다 하나가 죽어\\n도 모를걸요.”\\n“탐스러운 사과네. 맛있어 보여. 한입만 아삭 깨물어 볼까?”\\n사과를 베어 문 순간, 백설공주는 온몸에 독이 퍼져 정신을 잃고\\n쓰러졌어요.\\n“호호호. 이제 내가 세상에서 가장 아름답겠지?”\\n왕비는 백설공주를 버려둔 채 자리를 떠났어요.\\n'),\n",
       " Document(metadata={'source': './data/snow-white.pdf', 'page': 4}, page_content='저녁이 되자, 일곱 난쟁이가 돌아왔어요.\\n난쟁이들은 쓰러진 백설공주를 보고 엉엉 울었어요.\\n백설공주는 깊은 잠에 빠진 것처럼 보였지요.\\n“백설공주님, 못된 왕비의 꾐에 넘어갔군요.”\\n“여전히 아름다운 우리 공주님을 캄캄한 땅속에 묻을 순 없어.”\\n“오래오래 볼 수 있게 유리 관에 모시자.”\\n어느 날, 한 왕자가 숲을 지나다가 유리관을 보았어요.\\n“누구지? 이 아름다운 여인은?”\\n“백설공주랍니다.”\\n왕자는 백설공주에게 반해 유리관을 달라고 부탁했어요.\\n일곱 난쟁이는 백설공주를 잘 지킨다는 약속을 받고 유리관을\\n내주었지요.\\n그런데 신하들이 유리관을 옮기다 돌부리에 툭! 백설공주 목\\n에서 사과 조각이 툭! \\n“우아, 공주님이 살아났어!”\\n'),\n",
       " Document(metadata={'source': './data/snow-white.pdf', 'page': 5}, page_content='왕자는 깨어난 백설공주를 보고 기뻐했어요.\\n“공주님, 나는 이웃 나라 왕자입니다.”\\n“왕자님이 나를 다시 살려 주셨군요.”\\n“나와 결혼해 주시겠어요?”\\n“네, 좋아요!”\\n두 사람은 일곱 난쟁이와 함께 오래오래 행복하게 살\\n았답니다.\\n')]"
      ]
     },
     "execution_count": 20,
     "metadata": {},
     "output_type": "execute_result"
    }
   ],
   "source": [
    "adocs = loader.aload()\n",
    "\n",
    "await adocs"
   ]
  }
 ],
 "metadata": {
  "kernelspec": {
   "display_name": "langchain_env",
   "language": "python",
   "name": "python3"
  },
  "language_info": {
   "codemirror_mode": {
    "name": "ipython",
    "version": 3
   },
   "file_extension": ".py",
   "mimetype": "text/x-python",
   "name": "python",
   "nbconvert_exporter": "python",
   "pygments_lexer": "ipython3",
   "version": "3.11.10"
  }
 },
 "nbformat": 4,
 "nbformat_minor": 2
}
