{
 "cells": [
  {
   "cell_type": "markdown",
   "metadata": {},
   "source": [
    "### RAG(검색 증강 생성) 파이프라인 성능 평가\n",
    "\n",
    "1. 데이터셋 구축\n",
    "2. 모델 평가\n",
    "3. 평가 결과 시각화\n",
    "4. 평가 결과 분석\n",
    "5. 평가 결과 개선\n",
    "---"
   ]
  },
  {
   "cell_type": "markdown",
   "metadata": {},
   "source": [
    "### RAG(Retrieval Augmented Generation) 평가용 데이터셋 구축\n",
    "\n",
    "RAG를 평가할때는 Question, Answer, Retrieval 3가지 정보를 일반적으로 필요로 함\n",
    "* Question : 사용자의 질문\n",
    "* Answer : 모델의 답변\n",
    "* Retrieval : 모델이 사용한 문서 정보"
   ]
  },
  {
   "cell_type": "code",
   "execution_count": 2,
   "metadata": {},
   "outputs": [
    {
     "data": {
      "text/plain": [
       "True"
      ]
     },
     "execution_count": 2,
     "metadata": {},
     "output_type": "execute_result"
    }
   ],
   "source": [
    "from dotenv import load_dotenv\n",
    "\n",
    "load_dotenv()"
   ]
  },
  {
   "cell_type": "code",
   "execution_count": 3,
   "metadata": {},
   "outputs": [],
   "source": [
    "!pip install -q pandas"
   ]
  },
  {
   "cell_type": "code",
   "execution_count": 16,
   "metadata": {},
   "outputs": [
    {
     "data": {
      "text/html": [
       "<div>\n",
       "<style scoped>\n",
       "    .dataframe tbody tr th:only-of-type {\n",
       "        vertical-align: middle;\n",
       "    }\n",
       "\n",
       "    .dataframe tbody tr th {\n",
       "        vertical-align: top;\n",
       "    }\n",
       "\n",
       "    .dataframe thead th {\n",
       "        text-align: right;\n",
       "    }\n",
       "</style>\n",
       "<table border=\"1\" class=\"dataframe\">\n",
       "  <thead>\n",
       "    <tr style=\"text-align: right;\">\n",
       "      <th></th>\n",
       "      <th>question</th>\n",
       "      <th>answer</th>\n",
       "    </tr>\n",
       "  </thead>\n",
       "  <tbody>\n",
       "    <tr>\n",
       "      <th>0</th>\n",
       "      <td>백설공주는 왜 백설공주라는 이름을 가지게 되었나요?</td>\n",
       "      <td>백설공주는 피부가 눈처럼 하얗고 아름다워서 백설공주라는 이름을 가지게 되었어요</td>\n",
       "    </tr>\n",
       "    <tr>\n",
       "      <th>1</th>\n",
       "      <td>백설공주를 죽이려고 했던 사람은 누구인가요?</td>\n",
       "      <td>백설공주의 새어머니인 왕비가 백설공주를 죽이려고 했어요. 왕비는 자신이 세상에서 가...</td>\n",
       "    </tr>\n",
       "    <tr>\n",
       "      <th>2</th>\n",
       "      <td>백설공주는 어떤 음식을 먹고 쓰러졌나요?</td>\n",
       "      <td>백설공주는 빨간 독사과를 먹고 쓰러졌어요.</td>\n",
       "    </tr>\n",
       "  </tbody>\n",
       "</table>\n",
       "</div>"
      ],
      "text/plain": [
       "                       question  \\\n",
       "0  백설공주는 왜 백설공주라는 이름을 가지게 되었나요?   \n",
       "1      백설공주를 죽이려고 했던 사람은 누구인가요?   \n",
       "2        백설공주는 어떤 음식을 먹고 쓰러졌나요?   \n",
       "\n",
       "                                              answer  \n",
       "0        백설공주는 피부가 눈처럼 하얗고 아름다워서 백설공주라는 이름을 가지게 되었어요  \n",
       "1  백설공주의 새어머니인 왕비가 백설공주를 죽이려고 했어요. 왕비는 자신이 세상에서 가...  \n",
       "2                            백설공주는 빨간 독사과를 먹고 쓰러졌어요.  "
      ]
     },
     "execution_count": 16,
     "metadata": {},
     "output_type": "execute_result"
    }
   ],
   "source": [
    "import pandas as pd\n",
    "\n",
    "# 질문, 답변 목록\n",
    "inputs = [\n",
    "    \"백설공주는 왜 백설공주라는 이름을 가지게 되었나요?\",\n",
    "    \"백설공주를 죽이려고 했던 사람은 누구인가요?\",\n",
    "    \"백설공주는 어떤 음식을 먹고 쓰러졌나요?\",\n",
    "]\n",
    "\n",
    "outputs = [\n",
    "    \"백설공주는 피부가 눈처럼 하얗고 아름다워서 백설공주라는 이름을 가지게 되었어요\",\n",
    "    \"백설공주의 새어머니인 왕비가 백설공주를 죽이려고 했어요. 왕비는 자신이 세상에서 가장 아름다운 사람이 되고싶어서 백설공주를 질투했기 때문이에요\",\n",
    "    \"백설공주는 빨간 독사과를 먹고 쓰러졌어요.\",\n",
    "]\n",
    "\n",
    "# 답변 쌍으로 만들기\n",
    "# zip() : 파이썬 내장함수 여러개의 반복가능한 객체들을 병령적으로 묶어주는 역할\n",
    "qa_paris = [{\"question\" : q, \"answer\" : a} for q,a in zip(inputs,outputs)]\n",
    "\n",
    "df = pd.DataFrame(qa_paris)\n",
    "\n",
    "df.head()"
   ]
  },
  {
   "cell_type": "code",
   "execution_count": 8,
   "metadata": {},
   "outputs": [],
   "source": [
    "from langsmith import Client\n",
    "\n",
    "client = Client()\n",
    "dataset_name = \"RAG_EVALUATION_DATASET\"\n",
    "\n",
    "def create_dataset(client, dataset_name, description=None):\n",
    "    \n",
    "    # 기존의 모든 데이터셋을 순회\n",
    "    for dataset in client.list_datasets():\n",
    "        # 동일한 이름의 데이터셋이 이미 존재하면 기존 데이터셋 반환\n",
    "        if dataset.name == dataset_name:\n",
    "            return dataset\n",
    "        \n",
    "    # 동일 이름의 데이터셋이 없으면 새로운 데이터셋 생성\n",
    "    dataset = client.create_dataset(\n",
    "        dataset_name = dataset_name, # 데이터셋 이름 설정\n",
    "        description = description     # 데이터셋 설명 설정\n",
    "    )\n",
    "    \n",
    "    return dataset"
   ]
  },
  {
   "cell_type": "code",
   "execution_count": 13,
   "metadata": {},
   "outputs": [],
   "source": [
    "# 데이터셋 생성\n",
    "\n",
    "dataset = create_dataset(client, dataset_name)\n",
    "\n",
    "client.create_examples(\n",
    "    inputs=[{\"question\" : q} for q in df[\"question\"].tolist()],\n",
    "    outputs= [{\"answer\": a} for a in df[\"answer\"].tolist()],\n",
    "    dataset_id=dataset.id\n",
    ")"
   ]
  },
  {
   "cell_type": "code",
   "execution_count": 15,
   "metadata": {},
   "outputs": [],
   "source": [
    "new_question = [\n",
    "    \"백설공주는 어떤 과일은 먹고 쓰러졌나요?\",\n",
    "    \"백설공주는 왜 숲속으로 도망갔나요?\"\n",
    "]\n",
    "\n",
    "new_answer = [\n",
    "    \"백설공주는 오렌지를 먹고 쓰러졌어요. 새엄마가 독을 넣은 오렌지를 건내주었죠\",\n",
    "    \"백설공주는 학교 친구들과 싸워서 화가나서 숲속으로 도망갔어요\"\n",
    "]\n",
    "\n",
    "client.create_examples(\n",
    "    inputs = [{\"question\" : q} for q in new_question],\n",
    "    outputs = [{\"answer\":a} for a in new_answer],\n",
    "    dataset_id= dataset.id\n",
    ")"
   ]
  }
 ],
 "metadata": {
  "kernelspec": {
   "display_name": "langchain_env",
   "language": "python",
   "name": "python3"
  },
  "language_info": {
   "codemirror_mode": {
    "name": "ipython",
    "version": 3
   },
   "file_extension": ".py",
   "mimetype": "text/x-python",
   "name": "python",
   "nbconvert_exporter": "python",
   "pygments_lexer": "ipython3",
   "version": "3.11.10"
  }
 },
 "nbformat": 4,
 "nbformat_minor": 2
}
