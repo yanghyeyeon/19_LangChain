{
 "cells": [
  {
   "cell_type": "markdown",
   "metadata": {
    "vscode": {
     "languageId": "plaintext"
    }
   },
   "source": [
    "## LCEL (LangChain Expression Language)\n",
    "* 사용자의 입력 -> 프롬프트 템플릿 -> LLM 모델 전달\n",
    "* 각 단계를 차례로 엮어서 하나의 파이프라인으로 만들어주는 것\n",
    "\n",
    "chain = prompt | model | output_parser\n",
    "\n"
   ]
  },
  {
   "cell_type": "markdown",
   "metadata": {},
   "source": [
    "### 프롬프트 템플릿\n",
    "* 사용자의 입력 변수를 받아서 완전한 프롬프트 문자열을 만드는데 사용하는 템플릿"
   ]
  },
  {
   "cell_type": "code",
   "execution_count": 18,
   "metadata": {},
   "outputs": [],
   "source": [
    "from langchain_core.prompts import PromptTemplate\n",
    "\n",
    "template = \"{lecture}에 대해 설명해주세요\"\n",
    "\n",
    "Prompt_template = PromptTemplate(template=template, input_variables=[\"lecture\"])"
   ]
  },
  {
   "cell_type": "code",
   "execution_count": 2,
   "metadata": {},
   "outputs": [
    {
     "name": "stdout",
     "output_type": "stream",
     "text": [
      "스프링에 대해 설명해주세요\n"
     ]
    }
   ],
   "source": [
    "lecture = input(\"궁금한 과목을 입력하세요 : \")\n",
    "\n",
    "prompt = Prompt_template.format(lecture=lecture)\n",
    "\n",
    "print(prompt)"
   ]
  },
  {
   "cell_type": "code",
   "execution_count": 19,
   "metadata": {},
   "outputs": [],
   "source": [
    "from langchain_openai import ChatOpenAI\n",
    "\n",
    "model = ChatOpenAI(\n",
    "    model=\"gpt-3.5-turbo\",\n",
    "    temperature=0.1\n",
    ")"
   ]
  },
  {
   "cell_type": "code",
   "execution_count": 20,
   "metadata": {},
   "outputs": [],
   "source": [
    "chain = Prompt_template | model"
   ]
  },
  {
   "cell_type": "code",
   "execution_count": 21,
   "metadata": {},
   "outputs": [],
   "source": [
    "# Prompt Template의 변수에 작성할때는 Dictionary 형태로 Key-Value쌍으로\n",
    "# 입력을 줄 수 있다.\n",
    "input= {\"lecture\": \"랭체인\"}"
   ]
  },
  {
   "cell_type": "code",
   "execution_count": 9,
   "metadata": {},
   "outputs": [
    {
     "data": {
      "text/plain": [
       "AIMessage(content='랭체인은 블록체인 기술을 기반으로 한 분산형 랭킹 플랫폼입니다. 이는 사용자들이 다양한 콘텐츠나 제품에 대한 평가와 평판을 기록하고 공유할 수 있는 시스템을 제공합니다. 랭체인은 중앙 집중식 시스템이 아닌 분산된 네트워크를 통해 데이터를 저장하고 관리하며, 이를 통해 조작이나 변조를 방지하고 신뢰성을 높일 수 있습니다.\\n\\n랭체인은 다양한 분야에서 활용될 수 있으며, 예를 들어 온라인 쇼핑몰에서 상품에 대한 리뷰와 평가를 신뢰할 수 있는 방법으로 제공하거나, 온라인 커뮤니티에서 회원들의 활동과 참여도를 측정하는 등 다양한 용도로 활용될 수 있습니다. 또한, 랭체인은 블록체인의 특성을 활용하여 데이터의 무결성과 보안을 보장하며, 투명하고 공정한 시스템을 구축할 수 있습니다.', additional_kwargs={'refusal': None}, response_metadata={'token_usage': {'completion_tokens': 370, 'prompt_tokens': 18, 'total_tokens': 388, 'completion_tokens_details': {'audio_tokens': None, 'reasoning_tokens': 0}, 'prompt_tokens_details': {'audio_tokens': None, 'cached_tokens': 0}}, 'model_name': 'gpt-3.5-turbo-0125', 'system_fingerprint': None, 'finish_reason': 'stop', 'logprobs': None}, id='run-66dae78c-2f61-4abd-846d-b0991e42abae-0', usage_metadata={'input_tokens': 18, 'output_tokens': 370, 'total_tokens': 388, 'input_token_details': {'cache_read': 0}, 'output_token_details': {'reasoning': 0}})"
      ]
     },
     "execution_count": 9,
     "metadata": {},
     "output_type": "execute_result"
    }
   ],
   "source": [
    "chain.invoke(input)"
   ]
  },
  {
   "cell_type": "markdown",
   "metadata": {},
   "source": [
    "### 출력 형식 지정 (Output Parser)\n",
    "* LLM 모델이 응답해주는 내용에 대한 형식을 지정해주는 것"
   ]
  },
  {
   "cell_type": "code",
   "execution_count": 22,
   "metadata": {},
   "outputs": [],
   "source": [
    "from langchain_core.output_parsers import StrOutputParser\n",
    "\n",
    "output_parser = StrOutputParser()"
   ]
  },
  {
   "cell_type": "code",
   "execution_count": 23,
   "metadata": {},
   "outputs": [],
   "source": [
    "chain = Prompt_template | model | output_parser"
   ]
  },
  {
   "cell_type": "code",
   "execution_count": 24,
   "metadata": {},
   "outputs": [
    {
     "data": {
      "text/plain": [
       "'랭체인은 블록체인 기술을 기반으로 한 분산형 랭킹 시스템입니다. 랭체인은 사용자들이 서로에 대한 평가를 투표하고 이를 블록체인에 기록하여 신뢰할 수 있는 랭킹 시스템을 구축합니다. 이를 통해 사용자들은 다양한 온라인 플랫폼에서 신뢰할 수 있는 정보를 얻을 수 있고, 공정한 경쟁 환경을 조성할 수 있습니다. 또한, 랭체인은 중앙화된 기관이나 개인의 편견을 배제하고 공정한 랭킹 시스템을 제공함으로써 다양한 분야에서 활용될 수 있습니다.'"
      ]
     },
     "execution_count": 24,
     "metadata": {},
     "output_type": "execute_result"
    }
   ],
   "source": [
    "chain.invoke(input)"
   ]
  },
  {
   "cell_type": "code",
   "execution_count": 25,
   "metadata": {},
   "outputs": [],
   "source": [
    "### 영어 회화를 알려주는 선생님 챗봇\n",
    "### 어떤 상황을 주면 영어회화 + 한글 해석\n",
    "\n",
    "template = \"\"\"\n",
    "당신은 영어를 가르치는 10년차 선생님입니다. 주어진 상황에 맞는 영어 회화를 작성해주세요\n",
    "양식은 [FORMAT]을 참고하여 작성해주세요\n",
    "\n",
    "#상황:\n",
    "{question}\n",
    "\n",
    "#FORMAT:\n",
    "- 영어 회화:\n",
    "- 한글 해석:\n",
    "\"\"\"\n",
    "\n",
    "# 프롬프트 템플릿 작성\n",
    "prompt = PromptTemplate.from_template(template)\n",
    "\n",
    "# 모델 객체 작성\n",
    "model = ChatOpenAI(model_name=\"gpt-4o\")\n",
    "\n",
    "# 문자열 출력 파서 객체 생성\n",
    "output_parser = StrOutputParser()"
   ]
  },
  {
   "cell_type": "code",
   "execution_count": 26,
   "metadata": {},
   "outputs": [],
   "source": [
    "# 체인 구성\n",
    "\n",
    "chain = prompt | model | output_parser"
   ]
  },
  {
   "cell_type": "code",
   "execution_count": 27,
   "metadata": {},
   "outputs": [
    {
     "name": "stdout",
     "output_type": "stream",
     "text": [
      "- 영어 회화:\n",
      "  - Waiter: Good evening! How can I help you today?\n",
      "  - You: Good evening! I'd like to order some food, please.\n",
      "  - Waiter: Certainly! Can I start you off with something to drink?\n",
      "  - You: Yes, I’ll have a glass of water, please.\n",
      "  - Waiter: Sure, and what would you like to order for your meal?\n",
      "  - You: I’d like to have the grilled chicken with a side of vegetables.\n",
      "  - Waiter: Great choice! Would you like anything else with your order?\n",
      "  - You: No, that will be all for now, thank you.\n",
      "  - Waiter: Perfect, I’ll get that started for you. Enjoy your meal!\n",
      "\n",
      "- 한글 해석:\n",
      "  - 웨이터: 안녕하세요! 무엇을 도와드릴까요?\n",
      "  - 당신: 안녕하세요! 음식을 주문하고 싶어요.\n",
      "  - 웨이터: 물론입니다! 음료부터 시작하시겠습니까?\n",
      "  - 당신: 네, 물 한 잔 주세요.\n",
      "  - 웨이터: 알겠습니다. 식사로 무엇을 주문하시겠습니까?\n",
      "  - 당신: 구운 치킨과 야채를 곁들인 요리를 먹고 싶어요.\n",
      "  - 웨이터: 좋은 선택입니다! 주문하신 것 외에 다른 것은 필요 없으신가요?\n",
      "  - 당신: 아니요, 지금은 이걸로 충분해요. 감사합니다.\n",
      "  - 웨이터: 알겠습니다. 바로 준비해드리겠습니다. 맛있게 드세요!\n"
     ]
    }
   ],
   "source": [
    "# Chain 실행\n",
    "\n",
    "print(chain.invoke({\"question\": \"저는 식당에 가서 음식을 주문하고 싶어요.\"}))"
   ]
  },
  {
   "cell_type": "markdown",
   "metadata": {},
   "source": [
    "여러가지 재료를 변수를 입력 받고, 재료로 요리할 수 있는 요리의 요리명,재료,조리법을 포맷으로 받는 템플릿을 작성하고 문자열 출력 파서로 응답을 받을 수 있게 체인을 구성하세요"
   ]
  },
  {
   "cell_type": "code",
   "execution_count": 30,
   "metadata": {},
   "outputs": [
    {
     "name": "stdout",
     "output_type": "stream",
     "text": [
      "- 요리명: 토마토 모짜렐라 파스타\n",
      "\n",
      "- 재료:\n",
      "  - 토마토 3개\n",
      "  - 파스타면 200g\n",
      "  - 모짜렐라 치즈 100g\n",
      "  - 올리브 오일 2큰술\n",
      "  - 마늘 2쪽\n",
      "  - 소금 및 후추 약간\n",
      "  - 바질 잎 약간 (선택 사항)\n",
      "\n",
      "- 조리법:\n",
      "  1. 먼저, 냄비에 물을 끓이고 소금을 약간 넣은 후 파스타면을 포장지에 적힌 시간에 맞춰 삶아줍니다. 면이 알단테로 익으면 물을 빼고 따로 둡니다.\n",
      "  \n",
      "  2. 토마토는 씻어서 작은 크기로 깍둑썰기 해줍니다. 마늘은 얇게 슬라이스합니다.\n",
      "  \n",
      "  3. 큰 팬에 올리브 오일을 두르고 중불로 달군 후, 슬라이스한 마늘을 넣고 향이 날 때까지 볶아줍니다.\n",
      "  \n",
      "  4. 썰어놓은 토마토를 팬에 넣고 약 5분간 중불에서 끓여가며 소금과 후추로 간을 합니다.\n",
      "  \n",
      "  5. 삶아 놓은 파스타면을 팬에 넣고 토마토 소스와 잘 섞어줍니다.\n",
      "  \n",
      "  6. 마지막으로, 모짜렐라 치즈를 잘게 찢어서 파스타 위에 뿌려주고, 뚜껑을 덮어 치즈가 녹을 때까지 잠시 두세요.\n",
      "  \n",
      "  7. 취향에 따라 신선한 바질 잎을 올려 장식하면 완성입니다.\n"
     ]
    }
   ],
   "source": [
    "template = \"\"\"\n",
    "당신은 요리를 하는 10년차 요리사입니다. 주어진 재료에 맞는 요리를 작성해주세요\n",
    "양식은 [FORMAT]을 참고하여 작성해주세요\n",
    "\n",
    "#재료\n",
    "{question}\n",
    "\n",
    "#FORMAT\n",
    "- 요리명:\n",
    "- 재료:\n",
    "- 조리법:\n",
    "\n",
    "\"\"\"\n",
    "\n",
    "# 프롬프트 템플릿 작성\n",
    "prompt = PromptTemplate.from_template(template)\n",
    "\n",
    "# 모델 객체 작성\n",
    "model = ChatOpenAI(model_name=\"gpt-4o\")\n",
    "\n",
    "# 문자열 출력 파서 객체 생성\n",
    "output_parser = StrOutputParser()\n",
    "\n",
    "# 체인 구성\n",
    "\n",
    "chain = prompt | model | output_parser\n",
    "\n",
    "# Chain 실행\n",
    "\n",
    "print(chain.invoke({\"question\": \"토마토, 파스타면, 모짜렐라 치즈\"}))"
   ]
  }
 ],
 "metadata": {
  "kernelspec": {
   "display_name": "langchain_env",
   "language": "python",
   "name": "python3"
  },
  "language_info": {
   "codemirror_mode": {
    "name": "ipython",
    "version": 3
   },
   "file_extension": ".py",
   "mimetype": "text/x-python",
   "name": "python",
   "nbconvert_exporter": "python",
   "pygments_lexer": "ipython3",
   "version": "3.11.10"
  }
 },
 "nbformat": 4,
 "nbformat_minor": 2
}
