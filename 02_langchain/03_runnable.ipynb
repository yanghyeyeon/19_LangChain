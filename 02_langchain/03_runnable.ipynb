{
 "cells": [
  {
   "cell_type": "markdown",
   "metadata": {},
   "source": [
    "### Runnable\n",
    "* Runnable은 런타임에 실행될 수 있는 모든 객체를 의미한다.\n",
    "\n",
    "### Runnable 종류\n",
    "* invoke : 입력에 대해 체인을 호출한다.\n",
    "* stream : 응답의 청크를 스트리밍한다.\n",
    "* batch : 입력 목록에 대한 일괄 처리를 수행한다.\n",
    "\n",
    "이외에 비동기 메소드도 존재한다.\n",
    "* astream : 비동기적으로 응답의 청크를 비동기 스트리밍한다.\n",
    "* ainvoke : 비동기적으로 입력에 대해 체인을 호출한다.\n",
    "* abatch : 비동기적으로 입력 목록에 대해 일괄 처리를 수행한다.\n",
    "* astream_log : 최종 응답 및 발생하는 중간단계를 스트리밍한다."
   ]
  },
  {
   "cell_type": "code",
   "execution_count": 1,
   "metadata": {},
   "outputs": [
    {
     "data": {
      "text/plain": [
       "True"
      ]
     },
     "execution_count": 1,
     "metadata": {},
     "output_type": "execute_result"
    }
   ],
   "source": [
    "from dotenv import load_dotenv\n",
    "\n",
    "load_dotenv(dotenv_path=\"../.env\")"
   ]
  },
  {
   "cell_type": "code",
   "execution_count": 2,
   "metadata": {},
   "outputs": [],
   "source": [
    "from langchain_openai import ChatOpenAI\n",
    "\n",
    "llm = ChatOpenAI(\n",
    "    model_name = \"gpt-4o-mini\",\n",
    "    temperature=0.1\n",
    ")"
   ]
  }
 ],
 "metadata": {
  "kernelspec": {
   "display_name": "langchain_env",
   "language": "python",
   "name": "python3"
  },
  "language_info": {
   "codemirror_mode": {
    "name": "ipython",
    "version": 3
   },
   "file_extension": ".py",
   "mimetype": "text/x-python",
   "name": "python",
   "nbconvert_exporter": "python",
   "pygments_lexer": "ipython3",
   "version": "3.11.10"
  }
 },
 "nbformat": 4,
 "nbformat_minor": 2
}
